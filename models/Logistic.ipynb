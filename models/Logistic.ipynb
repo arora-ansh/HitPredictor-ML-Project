{
 "cells": [
  {
   "cell_type": "markdown",
   "id": "60ea9fbe",
   "metadata": {},
   "source": [
    "### Imports"
   ]
  },
  {
   "cell_type": "code",
   "execution_count": 1,
   "id": "18596322",
   "metadata": {},
   "outputs": [
    {
     "name": "stderr",
     "output_type": "stream",
     "text": [
      "C:\\Python39\\lib\\site-packages\\numpy\\_distributor_init.py:30: UserWarning: loaded more than 1 DLL from .libs:\n",
      "C:\\Python39\\lib\\site-packages\\numpy\\.libs\\libopenblas.JPIJNSWNNAN3CE6LLI5FWSPHUT2VXMTH.gfortran-win_amd64.dll\n",
      "C:\\Python39\\lib\\site-packages\\numpy\\.libs\\libopenblas.WCDJNK7YVMPZQ2ME2ZZHJJRJ3JIKNDB7.gfortran-win_amd64.dll\n",
      "  warnings.warn(\"loaded more than 1 DLL from .libs:\"\n"
     ]
    }
   ],
   "source": [
    "import numpy as np\n",
    "import pandas as pd\n",
    "import matplotlib.pyplot as plt\n",
    "from sklearn.model_selection import train_test_split\n",
    "from sklearn.model_selection import KFold\n",
    "from sklearn.linear_model import SGDClassifier\n",
    "from sklearn.metrics import classification_report, accuracy_score, confusion_matrix"
   ]
  },
  {
   "cell_type": "markdown",
   "id": "dc3cdd4d",
   "metadata": {},
   "source": [
    "### Preprocessing"
   ]
  },
  {
   "cell_type": "code",
   "execution_count": 2,
   "id": "904d27b0",
   "metadata": {},
   "outputs": [],
   "source": [
    "# Defining labels for ranking scores:\n",
    "def convert_y(dataY):\n",
    "    y = []\n",
    "    for i in range (len(dataY)):\n",
    "        if(dataY[i] > 50):\n",
    "            y.append(0)\n",
    "        else:\n",
    "            y.append(1)\n",
    "    return np.array(y)"
   ]
  },
  {
   "cell_type": "code",
   "execution_count": 3,
   "id": "4b7e324a",
   "metadata": {},
   "outputs": [
    {
     "data": {
      "text/html": [
       "<div>\n",
       "<style scoped>\n",
       "    .dataframe tbody tr th:only-of-type {\n",
       "        vertical-align: middle;\n",
       "    }\n",
       "\n",
       "    .dataframe tbody tr th {\n",
       "        vertical-align: top;\n",
       "    }\n",
       "\n",
       "    .dataframe thead th {\n",
       "        text-align: right;\n",
       "    }\n",
       "</style>\n",
       "<table border=\"1\" class=\"dataframe\">\n",
       "  <thead>\n",
       "    <tr style=\"text-align: right;\">\n",
       "      <th></th>\n",
       "      <th>Rank</th>\n",
       "    </tr>\n",
       "  </thead>\n",
       "  <tbody>\n",
       "    <tr>\n",
       "      <th>0</th>\n",
       "      <td>1</td>\n",
       "    </tr>\n",
       "    <tr>\n",
       "      <th>1</th>\n",
       "      <td>2</td>\n",
       "    </tr>\n",
       "    <tr>\n",
       "      <th>2</th>\n",
       "      <td>3</td>\n",
       "    </tr>\n",
       "    <tr>\n",
       "      <th>3</th>\n",
       "      <td>4</td>\n",
       "    </tr>\n",
       "    <tr>\n",
       "      <th>4</th>\n",
       "      <td>2</td>\n",
       "    </tr>\n",
       "  </tbody>\n",
       "</table>\n",
       "</div>"
      ],
      "text/plain": [
       "   Rank\n",
       "0     1\n",
       "1     2\n",
       "2     3\n",
       "3     4\n",
       "4     2"
      ]
     },
     "execution_count": 3,
     "metadata": {},
     "output_type": "execute_result"
    }
   ],
   "source": [
    "# Reading data:\n",
    "dataX = pd.read_csv('../datasets/spotofy_music_normalized.csv')\n",
    "dataY = pd.read_csv('../datasets/spotofy_music_labels.csv')\n",
    "dataY_multi = pd.read_csv('../datasets/spotofy_music_labels.csv')\n",
    "dataY.head()"
   ]
  },
  {
   "cell_type": "code",
   "execution_count": 4,
   "id": "a7f73e78",
   "metadata": {},
   "outputs": [],
   "source": [
    "cut_labels = [1, 2, 3, 4, 5]\n",
    "cut_bins = [0, 40, 80, 120, 160, 200]\n",
    "dataY_multi['Rank'] = pd.cut(dataY_multi['Rank'], bins=cut_bins, labels=cut_labels)"
   ]
  },
  {
   "cell_type": "code",
   "execution_count": 5,
   "id": "8de7cec9",
   "metadata": {},
   "outputs": [],
   "source": [
    "m = len(dataX) # Number of  examples\n",
    "X = np.array(dataX)\n",
    "Y = np.array(dataY)\n",
    "Y1= np.array(dataY_multi)\n",
    "Y = convert_y(Y)\n",
    "Y = np.array(Y)\n",
    "Y_multi = []\n",
    "for i in range (len(Y1)):\n",
    "    Y_multi.append(Y1[i][0])\n",
    "Y_multi = np.array(Y_multi)"
   ]
  },
  {
   "cell_type": "code",
   "execution_count": 6,
   "id": "1419e9d9",
   "metadata": {},
   "outputs": [],
   "source": [
    "def accuracy(Y,y_pred):\n",
    "    return np.sum(y_pred==Y)/len(Y)\n"
   ]
  },
  {
   "cell_type": "markdown",
   "id": "cc28af90",
   "metadata": {},
   "source": [
    "### Binary Classification"
   ]
  },
  {
   "cell_type": "code",
   "execution_count": 7,
   "id": "d0198ba1",
   "metadata": {},
   "outputs": [
    {
     "name": "stdout",
     "output_type": "stream",
     "text": [
      "Confusion Matrix is :\n",
      "[[519  61]\n",
      " [215  55]]\n",
      "\n",
      "Accuracy is: 0.6752941176470588\n",
      "Precison is: 0.47413793103448276\n",
      "Recall is: 0.2037037037037037\n",
      "F1-score of SGD is: 0.28497409326424866\n",
      "\n",
      "Confusion Matrix is :\n",
      "[[504  36]\n",
      " [251  59]]\n",
      "\n",
      "Accuracy is: 0.6623529411764706\n",
      "Precison is: 0.6210526315789474\n",
      "Recall is: 0.19032258064516128\n",
      "F1-score of SGD is: 0.291358024691358\n",
      "\n",
      "Confusion Matrix is :\n",
      "[[587   1]\n",
      " [250  11]]\n",
      "\n",
      "Accuracy is: 0.7043580683156655\n",
      "Precison is: 0.9166666666666666\n",
      "Recall is: 0.0421455938697318\n",
      "F1-score of SGD is: 0.08058608058608059\n",
      "\n",
      "Confusion Matrix is :\n",
      "[[500  55]\n",
      " [241  53]]\n",
      "\n",
      "Accuracy is: 0.6513545347467609\n",
      "Precison is: 0.49074074074074076\n",
      "Recall is: 0.18027210884353742\n",
      "F1-score of SGD is: 0.26368159203980096\n",
      "\n",
      "Confusion Matrix is :\n",
      "[[528  28]\n",
      " [227  66]]\n",
      "\n",
      "Accuracy is: 0.6996466431095406\n",
      "Precison is: 0.7021276595744681\n",
      "Recall is: 0.22525597269624573\n",
      "F1-score of SGD is: 0.34108527131782945\n",
      "\n"
     ]
    }
   ],
   "source": [
    "kf = KFold(n_splits=5)\n",
    "cnt = 0\n",
    "for train_index, test_index in kf.split(X):\n",
    "    X_train, X_test = X[train_index], X[test_index]\n",
    "    y_train, y_test = Y[train_index], Y[test_index]\n",
    "    model = SGDClassifier(alpha=0.001, penalty='l2')\n",
    "    model.fit(X_train, y_train)\n",
    "    cnt += 1\n",
    "    np.savetxt('../weights/logistic_split_'+str(cnt)+'.txt', model.coef_, delimiter=\" \", fmt=\"%f\")\n",
    "    y_predicted = model.predict(X_test)\n",
    "    confusionM = confusion_matrix(y_test,y_predicted )\n",
    "\n",
    "    print(\"Confusion Matrix is :\")\n",
    "    print(confusionM)\n",
    "    print()\n",
    "    print(\"Accuracy is:\",accuracy(y_test, y_predicted))\n",
    "    TP = confusionM[1][1]\n",
    "    TN = confusionM[0][0]\n",
    "    FN = confusionM[1][0]\n",
    "    FP = confusionM[0][1]\n",
    "    precision = TP/(TP+FP)\n",
    "    recall = TP/(TP+FN)\n",
    "    precision = TP/(TP+FP)\n",
    "    recall = TP/(TP+FN)\n",
    "    f1_score = 2*((precision* recall)/ (precision+recall))\n",
    "    print(\"Precison is:\", precision)\n",
    "    print(\"Recall is:\", recall)\n",
    "    print(\"F1-score of SGD is:\", f1_score)\n",
    "    print()\n",
    "\n"
   ]
  },
  {
   "cell_type": "markdown",
   "id": "4aa84b3f",
   "metadata": {},
   "source": [
    "### Multiclass"
   ]
  },
  {
   "cell_type": "code",
   "execution_count": 8,
   "id": "f9fe00fc",
   "metadata": {},
   "outputs": [
    {
     "name": "stdout",
     "output_type": "stream",
     "text": [
      "Confusion Matrix is :\n",
      "[[103  60  23  36  14]\n",
      " [ 59  37  23  26  13]\n",
      " [ 50  46  22  37   8]\n",
      " [ 43  42  12  40  16]\n",
      " [ 35  42   9  46   8]]\n",
      "\n",
      "Accuracy is: 0.24705882352941178\n",
      "Precison is: 0.38144329896907214\n",
      "Recall is: 0.3854166666666667\n",
      "F1-score of SGD is: 0.38341968911917096\n",
      "\n",
      "Confusion Matrix is :\n",
      "[[165  26  22  11  40]\n",
      " [ 97  34  22   5  31]\n",
      " [ 63  27  18   8  33]\n",
      " [ 71  22  17   8  23]\n",
      " [ 38  22  15   7  25]]\n",
      "\n",
      "Accuracy is: 0.29411764705882354\n",
      "Precison is: 0.5666666666666667\n",
      "Recall is: 0.2595419847328244\n",
      "F1-score of SGD is: 0.35602094240837695\n",
      "\n",
      "Confusion Matrix is :\n",
      "[[128  19  26  29  26]\n",
      " [ 60  18  30  31  32]\n",
      " [ 46  13  24  24  22]\n",
      " [ 52  21  34  25  38]\n",
      " [ 43  14  33  23  38]]\n",
      "\n",
      "Accuracy is: 0.2744405182567727\n",
      "Precison is: 0.4864864864864865\n",
      "Recall is: 0.23076923076923078\n",
      "F1-score of SGD is: 0.3130434782608696\n",
      "\n",
      "Confusion Matrix is :\n",
      "[[145  25   8  48  15]\n",
      " [ 95  41  14  42  22]\n",
      " [ 54  27  10  43  27]\n",
      " [ 17  27   9  44  21]\n",
      " [ 28  31   5  33  18]]\n",
      "\n",
      "Accuracy is: 0.303886925795053\n",
      "Precison is: 0.6212121212121212\n",
      "Recall is: 0.3014705882352941\n",
      "F1-score of SGD is: 0.4059405940594059\n",
      "\n",
      "Confusion Matrix is :\n",
      "[[107  32  73  16  18]\n",
      " [ 78  38  50   9  11]\n",
      " [ 42  26  53   9  16]\n",
      " [ 37  31  55   9   8]\n",
      " [ 30  28  55   5  13]]\n",
      "\n",
      "Accuracy is: 0.2591283863368669\n",
      "Precison is: 0.5428571428571428\n",
      "Recall is: 0.3275862068965517\n",
      "F1-score of SGD is: 0.4086021505376344\n",
      "\n"
     ]
    },
    {
     "name": "stderr",
     "output_type": "stream",
     "text": [
      "C:\\Python39\\lib\\site-packages\\sklearn\\utils\\deprecation.py:101: FutureWarning: Attribute coef_ was deprecated in version 0.24 and will be removed in 1.1 (renaming of 0.26). If you observe this warning while using RFE or SelectFromModel, use the importance_getter parameter instead.\n",
      "  warnings.warn(msg, category=FutureWarning)\n",
      "C:\\Python39\\lib\\site-packages\\sklearn\\utils\\deprecation.py:101: FutureWarning: Attribute coef_ was deprecated in version 0.24 and will be removed in 1.1 (renaming of 0.26). If you observe this warning while using RFE or SelectFromModel, use the importance_getter parameter instead.\n",
      "  warnings.warn(msg, category=FutureWarning)\n",
      "C:\\Python39\\lib\\site-packages\\sklearn\\utils\\deprecation.py:101: FutureWarning: Attribute coef_ was deprecated in version 0.24 and will be removed in 1.1 (renaming of 0.26). If you observe this warning while using RFE or SelectFromModel, use the importance_getter parameter instead.\n",
      "  warnings.warn(msg, category=FutureWarning)\n",
      "C:\\Python39\\lib\\site-packages\\sklearn\\utils\\deprecation.py:101: FutureWarning: Attribute coef_ was deprecated in version 0.24 and will be removed in 1.1 (renaming of 0.26). If you observe this warning while using RFE or SelectFromModel, use the importance_getter parameter instead.\n",
      "  warnings.warn(msg, category=FutureWarning)\n",
      "C:\\Python39\\lib\\site-packages\\sklearn\\utils\\deprecation.py:101: FutureWarning: Attribute coef_ was deprecated in version 0.24 and will be removed in 1.1 (renaming of 0.26). If you observe this warning while using RFE or SelectFromModel, use the importance_getter parameter instead.\n",
      "  warnings.warn(msg, category=FutureWarning)\n"
     ]
    }
   ],
   "source": [
    "from sklearn.multiclass import OneVsRestClassifier\n",
    "from sklearn.svm import SVC\n",
    "kf = KFold(n_splits=5)\n",
    "cnt = 0\n",
    "for train_index, test_index in kf.split(X):\n",
    "    X_train, X_test = X[train_index], X[test_index]\n",
    "    y_train, y_test = Y_multi[train_index], Y_multi[test_index]\n",
    "    model = OneVsRestClassifier(SGDClassifier(alpha=0.001, penalty='l2'))\n",
    "    model.fit(X_train, y_train)\n",
    "    cnt += 1\n",
    "    np.savetxt('../weights/ovr_split_'+str(cnt)+'.txt', model.coef_, delimiter=\" \", fmt=\"%f\")\n",
    "    y_predicted = model.predict(X_test)\n",
    "    confusionM = confusion_matrix(y_test,y_predicted )\n",
    "    print(\"Confusion Matrix is :\")\n",
    "    print(confusionM)\n",
    "    print()\n",
    "    print(\"Accuracy is:\",accuracy(y_test, y_predicted))\n",
    "    TP = confusionM[1][1]\n",
    "    TN = confusionM[0][0]\n",
    "    FN = confusionM[1][0]\n",
    "    FP = confusionM[0][1]\n",
    "    precision = TP/(TP+FP)\n",
    "    recall = TP/(TP+FN)\n",
    "    precision = TP/(TP+FP)\n",
    "    recall = TP/(TP+FN)\n",
    "    f1_score = 2*((precision* recall)/ (precision+recall))\n",
    "    print(\"Precison is:\", precision)\n",
    "    print(\"Recall is:\", recall)\n",
    "    print(\"F1-score of SGD is:\", f1_score)\n",
    "    print()\n"
   ]
  }
 ],
 "metadata": {
  "kernelspec": {
   "display_name": "Python 3 (ipykernel)",
   "language": "python",
   "name": "python3"
  },
  "language_info": {
   "codemirror_mode": {
    "name": "ipython",
    "version": 3
   },
   "file_extension": ".py",
   "mimetype": "text/x-python",
   "name": "python",
   "nbconvert_exporter": "python",
   "pygments_lexer": "ipython3",
   "version": "3.9.1"
  }
 },
 "nbformat": 4,
 "nbformat_minor": 5
}
