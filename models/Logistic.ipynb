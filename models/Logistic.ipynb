{
 "cells": [
  {
   "cell_type": "markdown",
   "id": "60ea9fbe",
   "metadata": {},
   "source": [
    "### Imports"
   ]
  },
  {
   "cell_type": "code",
   "execution_count": 1,
   "id": "18596322",
   "metadata": {},
   "outputs": [],
   "source": [
    "import numpy as np\n",
    "import pandas as pd\n",
    "import matplotlib.pyplot as plt\n",
    "from sklearn.model_selection import train_test_split\n",
    "from sklearn.model_selection import KFold\n",
    "from sklearn.linear_model import SGDClassifier\n",
    "from sklearn.metrics import classification_report, accuracy_score, confusion_matrix"
   ]
  },
  {
   "cell_type": "markdown",
   "id": "dc3cdd4d",
   "metadata": {},
   "source": [
    "### Preprocessing"
   ]
  },
  {
   "cell_type": "code",
   "execution_count": 2,
   "id": "904d27b0",
   "metadata": {},
   "outputs": [],
   "source": [
    "# Defining labels for ranking scores:\n",
    "def convert_y(dataY):\n",
    "    y = []\n",
    "    for i in range (len(dataY)):\n",
    "        if(dataY[i] > 50):\n",
    "            y.append(0)\n",
    "        else:\n",
    "            y.append(1)\n",
    "    return np.array(y)"
   ]
  },
  {
   "cell_type": "code",
   "execution_count": 3,
   "id": "4b7e324a",
   "metadata": {},
   "outputs": [
    {
     "data": {
      "text/html": [
       "<div>\n",
       "<style scoped>\n",
       "    .dataframe tbody tr th:only-of-type {\n",
       "        vertical-align: middle;\n",
       "    }\n",
       "\n",
       "    .dataframe tbody tr th {\n",
       "        vertical-align: top;\n",
       "    }\n",
       "\n",
       "    .dataframe thead th {\n",
       "        text-align: right;\n",
       "    }\n",
       "</style>\n",
       "<table border=\"1\" class=\"dataframe\">\n",
       "  <thead>\n",
       "    <tr style=\"text-align: right;\">\n",
       "      <th></th>\n",
       "      <th>Rank</th>\n",
       "    </tr>\n",
       "  </thead>\n",
       "  <tbody>\n",
       "    <tr>\n",
       "      <th>0</th>\n",
       "      <td>1</td>\n",
       "    </tr>\n",
       "    <tr>\n",
       "      <th>1</th>\n",
       "      <td>2</td>\n",
       "    </tr>\n",
       "    <tr>\n",
       "      <th>2</th>\n",
       "      <td>3</td>\n",
       "    </tr>\n",
       "    <tr>\n",
       "      <th>3</th>\n",
       "      <td>4</td>\n",
       "    </tr>\n",
       "    <tr>\n",
       "      <th>4</th>\n",
       "      <td>2</td>\n",
       "    </tr>\n",
       "  </tbody>\n",
       "</table>\n",
       "</div>"
      ],
      "text/plain": [
       "   Rank\n",
       "0     1\n",
       "1     2\n",
       "2     3\n",
       "3     4\n",
       "4     2"
      ]
     },
     "execution_count": 3,
     "metadata": {},
     "output_type": "execute_result"
    }
   ],
   "source": [
    "# Reading data:\n",
    "dataX = pd.read_csv('../datasets/spotofy_music_normalized.csv')\n",
    "dataY = pd.read_csv('../datasets/spotofy_music_labels.csv')\n",
    "dataY_multi = pd.read_csv('../datasets/spotofy_music_labels.csv')\n",
    "dataY.head()"
   ]
  },
  {
   "cell_type": "code",
   "execution_count": 4,
   "id": "a7f73e78",
   "metadata": {},
   "outputs": [],
   "source": [
    "cut_labels = [1, 2, 3, 4, 5]\n",
    "cut_bins = [0, 40, 80, 120, 160, 200]\n",
    "dataY_multi['Rank'] = pd.cut(dataY_multi['Rank'], bins=cut_bins, labels=cut_labels)"
   ]
  },
  {
   "cell_type": "code",
   "execution_count": 5,
   "id": "8de7cec9",
   "metadata": {},
   "outputs": [],
   "source": [
    "m = len(dataX) # Number of  examples\n",
    "X = np.array(dataX)\n",
    "Y = np.array(dataY)\n",
    "Y1= np.array(dataY_multi)\n",
    "Y = convert_y(Y)\n",
    "Y = np.array(Y)\n",
    "Y_multi = []\n",
    "for i in range (len(Y1)):\n",
    "    Y_multi.append(Y1[i][0])\n",
    "Y_multi = np.array(Y_multi)"
   ]
  },
  {
   "cell_type": "code",
   "execution_count": 6,
   "id": "1419e9d9",
   "metadata": {},
   "outputs": [],
   "source": [
    "def accuracy(Y,y_pred):\n",
    "    return np.sum(y_pred==Y)/len(Y)\n"
   ]
  },
  {
   "cell_type": "markdown",
   "id": "cc28af90",
   "metadata": {},
   "source": [
    "### Binary Classification"
   ]
  },
  {
   "cell_type": "code",
   "execution_count": 7,
   "id": "d0198ba1",
   "metadata": {},
   "outputs": [
    {
     "name": "stdout",
     "output_type": "stream",
     "text": [
      "Confusion Matrix is :\n",
      "[[558  22]\n",
      " [235  35]]\n",
      "\n",
      "Accuracy is: 0.6976470588235294\n",
      "Precison is: 0.6140350877192983\n",
      "Recall is: 0.12962962962962962\n",
      "F1-score of SGD is: 0.21406727828746175\n",
      "\n",
      "Confusion Matrix is :\n",
      "[[505  35]\n",
      " [255  55]]\n",
      "\n",
      "Accuracy is: 0.6588235294117647\n",
      "Precison is: 0.6111111111111112\n",
      "Recall is: 0.1774193548387097\n",
      "F1-score of SGD is: 0.27499999999999997\n",
      "\n",
      "Confusion Matrix is :\n",
      "[[586   2]\n",
      " [240  21]]\n",
      "\n",
      "Accuracy is: 0.7149587750294464\n",
      "Precison is: 0.9130434782608695\n",
      "Recall is: 0.08045977011494253\n",
      "F1-score of SGD is: 0.14788732394366197\n",
      "\n",
      "Confusion Matrix is :\n",
      "[[512  43]\n",
      " [248  46]]\n",
      "\n",
      "Accuracy is: 0.657243816254417\n",
      "Precison is: 0.5168539325842697\n",
      "Recall is: 0.1564625850340136\n",
      "F1-score of SGD is: 0.24020887728459528\n",
      "\n",
      "Confusion Matrix is :\n",
      "[[542  14]\n",
      " [263  30]]\n",
      "\n",
      "Accuracy is: 0.673733804475854\n",
      "Precison is: 0.6818181818181818\n",
      "Recall is: 0.10238907849829351\n",
      "F1-score of SGD is: 0.17804154302670624\n",
      "\n"
     ]
    }
   ],
   "source": [
    "kf = KFold(n_splits=5)\n",
    "for train_index, test_index in kf.split(X):\n",
    "    X_train, X_test = X[train_index], X[test_index]\n",
    "    y_train, y_test = Y[train_index], Y[test_index]\n",
    "    model = SGDClassifier(alpha=0.001, penalty='l2')\n",
    "    model.fit(X_train, y_train)\n",
    "    y_predicted = model.predict(X_test)\n",
    "    confusionM = confusion_matrix(y_test,y_predicted )\n",
    "    print(\"Confusion Matrix is :\")\n",
    "    print(confusionM)\n",
    "    print()\n",
    "    print(\"Accuracy is:\",accuracy(y_test, y_predicted))\n",
    "    TP = confusionM[1][1]\n",
    "    TN = confusionM[0][0]\n",
    "    FN = confusionM[1][0]\n",
    "    FP = confusionM[0][1]\n",
    "    precision = TP/(TP+FP)\n",
    "    recall = TP/(TP+FN)\n",
    "    precision = TP/(TP+FP)\n",
    "    recall = TP/(TP+FN)\n",
    "    f1_score = 2*((precision* recall)/ (precision+recall))\n",
    "    print(\"Precison is:\", precision)\n",
    "    print(\"Recall is:\", recall)\n",
    "    print(\"F1-score of SGD is:\", f1_score)\n",
    "    print()\n",
    "\n"
   ]
  },
  {
   "cell_type": "markdown",
   "id": "4aa84b3f",
   "metadata": {},
   "source": [
    "### Multiclass"
   ]
  },
  {
   "cell_type": "code",
   "execution_count": 8,
   "id": "f9fe00fc",
   "metadata": {},
   "outputs": [
    {
     "name": "stdout",
     "output_type": "stream",
     "text": [
      "Confusion Matrix is :\n",
      "[[101  24  75   5  31]\n",
      " [ 64  19  47   9  19]\n",
      " [ 47  18  52   9  37]\n",
      " [ 53  18  53   5  24]\n",
      " [ 35  22  52   5  26]]\n",
      "\n",
      "Accuracy is: 0.2388235294117647\n",
      "Precison is: 0.4418604651162791\n",
      "Recall is: 0.2289156626506024\n",
      "F1-score of SGD is: 0.30158730158730157\n",
      "\n",
      "Confusion Matrix is :\n",
      "[[177  13  35  31   8]\n",
      " [ 99   6  27  38  19]\n",
      " [ 68  11  28  32  10]\n",
      " [ 65   4  32  29  11]\n",
      " [ 37   5  23  28  14]]\n",
      "\n",
      "Accuracy is: 0.2988235294117647\n",
      "Precison is: 0.3157894736842105\n",
      "Recall is: 0.05714285714285714\n",
      "F1-score of SGD is: 0.09677419354838708\n",
      "\n",
      "Confusion Matrix is :\n",
      "[[139  32   2  35  20]\n",
      " [ 69  37   4  37  24]\n",
      " [ 41  27   2  41  18]\n",
      " [ 69  35   4  39  23]\n",
      " [ 46  38   2  35  30]]\n",
      "\n",
      "Accuracy is: 0.29093050647820967\n",
      "Precison is: 0.5362318840579711\n",
      "Recall is: 0.3490566037735849\n",
      "F1-score of SGD is: 0.42285714285714293\n",
      "\n",
      "Confusion Matrix is :\n",
      "[[143  44  24   9  21]\n",
      " [ 96  54  36   8  20]\n",
      " [ 56  43  32   9  21]\n",
      " [ 24  39  30   8  17]\n",
      " [ 34  24  28   5  24]]\n",
      "\n",
      "Accuracy is: 0.30742049469964666\n",
      "Precison is: 0.5510204081632653\n",
      "Recall is: 0.36\n",
      "F1-score of SGD is: 0.4354838709677419\n",
      "\n",
      "Confusion Matrix is :\n",
      "[[149  23  13  15  46]\n",
      " [ 78  16  13  31  48]\n",
      " [ 45  12  13  28  48]\n",
      " [ 34  20  10  26  50]\n",
      " [ 29  17  12  25  48]]\n",
      "\n",
      "Accuracy is: 0.2968197879858657\n",
      "Precison is: 0.41025641025641024\n",
      "Recall is: 0.1702127659574468\n",
      "F1-score of SGD is: 0.24060150375939848\n",
      "\n"
     ]
    }
   ],
   "source": [
    "from sklearn.multiclass import OneVsRestClassifier\n",
    "from sklearn.svm import SVC\n",
    "kf = KFold(n_splits=5)\n",
    "for train_index, test_index in kf.split(X):\n",
    "    X_train, X_test = X[train_index], X[test_index]\n",
    "    y_train, y_test = Y_multi[train_index], Y_multi[test_index]\n",
    "    model = OneVsRestClassifier(SGDClassifier(alpha=0.001, penalty='l2'))\n",
    "    model.fit(X_train, y_train)\n",
    "    y_predicted = model.predict(X_test)\n",
    "    confusionM = confusion_matrix(y_test,y_predicted )\n",
    "    print(\"Confusion Matrix is :\")\n",
    "    print(confusionM)\n",
    "    print()\n",
    "    print(\"Accuracy is:\",accuracy(y_test, y_predicted))\n",
    "    TP = confusionM[1][1]\n",
    "    TN = confusionM[0][0]\n",
    "    FN = confusionM[1][0]\n",
    "    FP = confusionM[0][1]\n",
    "    precision = TP/(TP+FP)\n",
    "    recall = TP/(TP+FN)\n",
    "    precision = TP/(TP+FP)\n",
    "    recall = TP/(TP+FN)\n",
    "    f1_score = 2*((precision* recall)/ (precision+recall))\n",
    "    print(\"Precison is:\", precision)\n",
    "    print(\"Recall is:\", recall)\n",
    "    print(\"F1-score of SGD is:\", f1_score)\n",
    "    print()\n"
   ]
  }
 ],
 "metadata": {
  "kernelspec": {
   "display_name": "Python 3 (ipykernel)",
   "language": "python",
   "name": "python3"
  },
  "language_info": {
   "codemirror_mode": {
    "name": "ipython",
    "version": 3
   },
   "file_extension": ".py",
   "mimetype": "text/x-python",
   "name": "python",
   "nbconvert_exporter": "python",
   "pygments_lexer": "ipython3",
   "version": "3.9.1"
  }
 },
 "nbformat": 4,
 "nbformat_minor": 5
}
