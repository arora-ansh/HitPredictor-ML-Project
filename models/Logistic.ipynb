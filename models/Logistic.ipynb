{
 "cells": [
  {
   "cell_type": "code",
   "execution_count": 1,
   "id": "18596322",
   "metadata": {},
   "outputs": [
    {
     "name": "stderr",
     "output_type": "stream",
     "text": [
      "C:\\Python39\\lib\\site-packages\\numpy\\_distributor_init.py:30: UserWarning: loaded more than 1 DLL from .libs:\n",
      "C:\\Python39\\lib\\site-packages\\numpy\\.libs\\libopenblas.JPIJNSWNNAN3CE6LLI5FWSPHUT2VXMTH.gfortran-win_amd64.dll\n",
      "C:\\Python39\\lib\\site-packages\\numpy\\.libs\\libopenblas.WCDJNK7YVMPZQ2ME2ZZHJJRJ3JIKNDB7.gfortran-win_amd64.dll\n",
      "  warnings.warn(\"loaded more than 1 DLL from .libs:\"\n"
     ]
    }
   ],
   "source": [
    "import numpy as np\n",
    "import pandas as pd\n",
    "import matplotlib.pyplot as plt\n",
    "from sklearn.model_selection import train_test_split\n",
    "from sklearn.model_selection import KFold\n",
    "from sklearn.linear_model import SGDClassifier\n",
    "from sklearn.metrics import classification_report, accuracy_score, confusion_matrix"
   ]
  },
  {
   "cell_type": "code",
   "execution_count": 2,
   "id": "904d27b0",
   "metadata": {},
   "outputs": [],
   "source": [
    "def convert_y(dataY):\n",
    "    y = []\n",
    "    for i in range (len(dataY)):\n",
    "        if(dataY[i] > 50):\n",
    "            y.append(0)\n",
    "        else:\n",
    "            y.append(1)\n",
    "    return np.array(y)"
   ]
  },
  {
   "cell_type": "code",
   "execution_count": 3,
   "id": "4b7e324a",
   "metadata": {},
   "outputs": [
    {
     "data": {
      "text/html": [
       "<div>\n",
       "<style scoped>\n",
       "    .dataframe tbody tr th:only-of-type {\n",
       "        vertical-align: middle;\n",
       "    }\n",
       "\n",
       "    .dataframe tbody tr th {\n",
       "        vertical-align: top;\n",
       "    }\n",
       "\n",
       "    .dataframe thead th {\n",
       "        text-align: right;\n",
       "    }\n",
       "</style>\n",
       "<table border=\"1\" class=\"dataframe\">\n",
       "  <thead>\n",
       "    <tr style=\"text-align: right;\">\n",
       "      <th></th>\n",
       "      <th>Rank</th>\n",
       "    </tr>\n",
       "  </thead>\n",
       "  <tbody>\n",
       "    <tr>\n",
       "      <th>0</th>\n",
       "      <td>1</td>\n",
       "    </tr>\n",
       "    <tr>\n",
       "      <th>1</th>\n",
       "      <td>2</td>\n",
       "    </tr>\n",
       "    <tr>\n",
       "      <th>2</th>\n",
       "      <td>3</td>\n",
       "    </tr>\n",
       "    <tr>\n",
       "      <th>3</th>\n",
       "      <td>4</td>\n",
       "    </tr>\n",
       "    <tr>\n",
       "      <th>4</th>\n",
       "      <td>2</td>\n",
       "    </tr>\n",
       "  </tbody>\n",
       "</table>\n",
       "</div>"
      ],
      "text/plain": [
       "   Rank\n",
       "0     1\n",
       "1     2\n",
       "2     3\n",
       "3     4\n",
       "4     2"
      ]
     },
     "execution_count": 3,
     "metadata": {},
     "output_type": "execute_result"
    }
   ],
   "source": [
    "dataX = pd.read_csv('../datasets/spotofy_music_normalized.csv')\n",
    "dataY = pd.read_csv('../datasets/spotofy_music_labels.csv')\n",
    "dataY_multi = pd.read_csv('../datasets/spotofy_music_labels.csv')\n",
    "dataY.head()"
   ]
  },
  {
   "cell_type": "code",
   "execution_count": 4,
   "id": "a7f73e78",
   "metadata": {},
   "outputs": [],
   "source": [
    "cut_labels = [1, 2, 3, 4, 5]\n",
    "cut_bins = [0, 40, 80, 120, 160, 200]\n",
    "dataY_multi['Rank'] = pd.cut(dataY_multi['Rank'], bins=cut_bins, labels=cut_labels)"
   ]
  },
  {
   "cell_type": "code",
   "execution_count": 5,
   "id": "8de7cec9",
   "metadata": {},
   "outputs": [],
   "source": [
    "m = len(dataX) # Number of  examples\n",
    "X = np.array(dataX)\n",
    "Y = np.array(dataY)\n",
    "Y1= np.array(dataY_multi)\n",
    "Y = convert_y(Y)\n",
    "Y = np.array(Y)\n",
    "Y_multi = []\n",
    "for i in range (len(Y1)):\n",
    "    Y_multi.append(Y1[i][0])\n",
    "Y_multi = np.array(Y_multi)"
   ]
  },
  {
   "cell_type": "code",
   "execution_count": 6,
   "id": "1419e9d9",
   "metadata": {},
   "outputs": [],
   "source": [
    "def accuracy(Y,y_pred):\n",
    "    return np.sum(y_pred==Y)/len(Y)\n"
   ]
  },
  {
   "cell_type": "markdown",
   "id": "cc28af90",
   "metadata": {},
   "source": [
    "### Binary Classification"
   ]
  },
  {
   "cell_type": "code",
   "execution_count": 9,
   "id": "d0198ba1",
   "metadata": {},
   "outputs": [
    {
     "name": "stdout",
     "output_type": "stream",
     "text": [
      "Confusion Matrix is :\n",
      "[[528  52]\n",
      " [212  58]]\n",
      "\n",
      "Accuracy is: 0.6894117647058824\n",
      "Precison is: 0.5272727272727272\n",
      "Recall is: 0.21481481481481482\n",
      "F1-score of SGD is: 0.30526315789473685\n",
      "\n",
      "Confusion Matrix is :\n",
      "[[512  28]\n",
      " [256  54]]\n",
      "\n",
      "Accuracy is: 0.6658823529411765\n",
      "Precison is: 0.6585365853658537\n",
      "Recall is: 0.17419354838709677\n",
      "F1-score of SGD is: 0.2755102040816326\n",
      "\n",
      "Confusion Matrix is :\n",
      "[[566  22]\n",
      " [211  50]]\n",
      "\n",
      "Accuracy is: 0.7255594817432274\n",
      "Precison is: 0.6944444444444444\n",
      "Recall is: 0.19157088122605365\n",
      "F1-score of SGD is: 0.30030030030030025\n",
      "\n",
      "Confusion Matrix is :\n",
      "[[533  22]\n",
      " [261  33]]\n",
      "\n",
      "Accuracy is: 0.6666666666666666\n",
      "Precison is: 0.6\n",
      "Recall is: 0.11224489795918367\n",
      "F1-score of SGD is: 0.18911174785100288\n",
      "\n",
      "Confusion Matrix is :\n",
      "[[537  19]\n",
      " [238  55]]\n",
      "\n",
      "Accuracy is: 0.6972909305064782\n",
      "Precison is: 0.7432432432432432\n",
      "Recall is: 0.18771331058020477\n",
      "F1-score of SGD is: 0.29972752043596723\n",
      "\n"
     ]
    }
   ],
   "source": [
    "kf = KFold(n_splits=5)\n",
    "cnt = 0\n",
    "for train_index, test_index in kf.split(X):\n",
    "    X_train, X_test = X[train_index], X[test_index]\n",
    "    y_train, y_test = Y[train_index], Y[test_index]\n",
    "    model = SGDClassifier(alpha=0.001, penalty='l2')\n",
    "    model.fit(X_train, y_train)\n",
    "    cnt +=1\n",
    "    np.savetxt('logistic_split_'+str(cnt)+'.txt', model.coef_, delimiter=\" \", fmt=\"%f\")\n",
    "    y_predicted = model.predict(X_test)\n",
    "    confusionM = confusion_matrix(y_test,y_predicted )\n",
    "    print(\"Confusion Matrix is :\")\n",
    "    print(confusionM)\n",
    "    print()\n",
    "    print(\"Accuracy is:\",accuracy(y_test, y_predicted))\n",
    "    TP = confusionM[1][1]\n",
    "    TN = confusionM[0][0]\n",
    "    FN = confusionM[1][0]\n",
    "    FP = confusionM[0][1]\n",
    "    precision = TP/(TP+FP)\n",
    "    recall = TP/(TP+FN)\n",
    "    precision = TP/(TP+FP)\n",
    "    recall = TP/(TP+FN)\n",
    "    f1_score = 2*((precision* recall)/ (precision+recall))\n",
    "    print(\"Precison is:\", precision)\n",
    "    print(\"Recall is:\", recall)\n",
    "    print(\"F1-score of SGD is:\", f1_score)\n",
    "    print()\n",
    "\n"
   ]
  },
  {
   "cell_type": "markdown",
   "id": "4aa84b3f",
   "metadata": {},
   "source": [
    "### Multiclass"
   ]
  },
  {
   "cell_type": "code",
   "execution_count": 25,
   "id": "f9fe00fc",
   "metadata": {},
   "outputs": [
    {
     "name": "stdout",
     "output_type": "stream",
     "text": [
      "Confusion Matrix is :\n",
      "[[130  29  30  20  27]\n",
      " [ 66  19  22  23  28]\n",
      " [ 54  17  31  29  32]\n",
      " [ 59  21  26  30  17]\n",
      " [ 48  12  27  21  32]]\n",
      "\n",
      "Accuracy is: 0.2847058823529412\n",
      "Precison is: 0.3958333333333333\n",
      "Recall is: 0.2235294117647059\n",
      "F1-score of SGD is: 0.2857142857142857\n",
      "\n",
      "Confusion Matrix is :\n",
      "[[181  25  32   9  17]\n",
      " [110  27  27   4  21]\n",
      " [ 82  25  20   4  18]\n",
      " [ 71  21  23   3  23]\n",
      " [ 40  22  23   6  16]]\n",
      "\n",
      "Accuracy is: 0.29058823529411765\n",
      "Precison is: 0.5192307692307693\n",
      "Recall is: 0.19708029197080293\n",
      "F1-score of SGD is: 0.2857142857142857\n",
      "\n",
      "Confusion Matrix is :\n",
      "[[112  39  22   7  48]\n",
      " [ 66  35  26  10  34]\n",
      " [ 42  35  11   7  34]\n",
      " [ 55  47  14   7  47]\n",
      " [ 40  46  18   8  39]]\n",
      "\n",
      "Accuracy is: 0.24028268551236748\n",
      "Precison is: 0.47297297297297297\n",
      "Recall is: 0.3465346534653465\n",
      "F1-score of SGD is: 0.4\n",
      "\n",
      "Confusion Matrix is :\n",
      "[[132  63  12  16  18]\n",
      " [100  62  20  17  15]\n",
      " [ 50  54  24   9  24]\n",
      " [ 30  41  16  20  11]\n",
      " [ 43  33  17  12  10]]\n",
      "\n",
      "Accuracy is: 0.2921083627797409\n",
      "Precison is: 0.496\n",
      "Recall is: 0.38271604938271603\n",
      "F1-score of SGD is: 0.43205574912891986\n",
      "\n",
      "Confusion Matrix is :\n",
      "[[124  49  17  47   9]\n",
      " [ 67  51  13  44  11]\n",
      " [ 30  50  19  33  14]\n",
      " [ 26  35  14  47  18]\n",
      " [ 19  54  18  26  14]]\n",
      "\n",
      "Accuracy is: 0.3003533568904594\n",
      "Precison is: 0.51\n",
      "Recall is: 0.4322033898305085\n",
      "F1-score of SGD is: 0.4678899082568808\n",
      "\n"
     ]
    }
   ],
   "source": [
    "from sklearn.multiclass import OneVsRestClassifier\n",
    "from sklearn.svm import SVC\n",
    "kf = KFold(n_splits=5)\n",
    "for train_index, test_index in kf.split(X):\n",
    "    X_train, X_test = X[train_index], X[test_index]\n",
    "    y_train, y_test = Y_multi[train_index], Y_multi[test_index]\n",
    "    model = OneVsRestClassifier(SGDClassifier(alpha=0.001, penalty='l2'))\n",
    "    model.fit(X_train, y_train)\n",
    "    y_predicted = model.predict(X_test)\n",
    "    confusionM = confusion_matrix(y_test,y_predicted )\n",
    "    print(\"Confusion Matrix is :\")\n",
    "    print(confusionM)\n",
    "    print()\n",
    "    print(\"Accuracy is:\",accuracy(y_test, y_predicted))\n",
    "    TP = confusionM[1][1]\n",
    "    TN = confusionM[0][0]\n",
    "    FN = confusionM[1][0]\n",
    "    FP = confusionM[0][1]\n",
    "    precision = TP/(TP+FP)\n",
    "    recall = TP/(TP+FN)\n",
    "    precision = TP/(TP+FP)\n",
    "    recall = TP/(TP+FN)\n",
    "    f1_score = 2*((precision* recall)/ (precision+recall))\n",
    "    print(\"Precison is:\", precision)\n",
    "    print(\"Recall is:\", recall)\n",
    "    print(\"F1-score of SGD is:\", f1_score)\n",
    "    print()\n"
   ]
  }
 ],
 "metadata": {
  "kernelspec": {
   "display_name": "Python 3 (ipykernel)",
   "language": "python",
   "name": "python3"
  },
  "language_info": {
   "codemirror_mode": {
    "name": "ipython",
    "version": 3
   },
   "file_extension": ".py",
   "mimetype": "text/x-python",
   "name": "python",
   "nbconvert_exporter": "python",
   "pygments_lexer": "ipython3",
   "version": "3.9.1"
  }
 },
 "nbformat": 4,
 "nbformat_minor": 5
}
