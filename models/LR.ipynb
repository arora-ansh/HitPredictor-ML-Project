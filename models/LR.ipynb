{
 "cells": [
  {
   "cell_type": "markdown",
   "metadata": {},
   "source": [
    "### Imports"
   ]
  },
  {
   "cell_type": "code",
   "execution_count": 1,
   "metadata": {},
   "outputs": [],
   "source": [
    "import numpy as np\n",
    "from sklearn.linear_model import LinearRegression\n",
    "from sklearn.model_selection import train_test_split\n",
    "from sklearn.model_selection import KFold\n",
    "from sklearn import datasets\n",
    "import pandas as pd\n",
    "from sklearn.metrics import mean_squared_error\n",
    "from sklearn.linear_model import Lasso\n",
    "from sklearn.linear_model import Ridge\n",
    "from sklearn.model_selection import GridSearchCV\n",
    "from sklearn.metrics import accuracy_score"
   ]
  },
  {
   "cell_type": "code",
   "execution_count": 2,
   "metadata": {},
   "outputs": [],
   "source": [
    "# Defining labels for ranking scores:\n",
    "def convert_labels(x):\n",
    "    y = []\n",
    "    for i in range(len(x)):\n",
    "        y.append([(199.9-0.9*x[i][0])/199])\n",
    "        # y.append([201-x[i][0]])\n",
    "    return np.array(y)"
   ]
  },
  {
   "cell_type": "code",
   "execution_count": 4,
   "metadata": {},
   "outputs": [],
   "source": [
    "#Reading data:\n",
    "dataX = pd.read_csv('../datasets/spotofy_music_normalized.csv')\n",
    "dataX.head()\n",
    "m = len(dataX) # Number of  examples\n",
    "X = np.array(dataX)\n",
    "\n",
    "dataY = pd.read_csv('../datasets/spotofy_music_labels.csv')\n",
    "dataY.head()\n",
    "Y = np.array(dataY)\n",
    "Y = convert_labels(Y)\n",
    "Y.tofile('../datasets/hitscore.csv',sep=',')\n",
    "# print(Y)"
   ]
  },
  {
   "cell_type": "markdown",
   "metadata": {},
   "source": [
    "### Analysis using LR models"
   ]
  },
  {
   "cell_type": "code",
   "execution_count": null,
   "metadata": {},
   "outputs": [],
   "source": [
    "#Using K-fold cross-validation for data and fitting the model and apply regularization:\n",
    "kf = KFold(n_splits=10)\n",
    "temp__ = 0.0000001\n",
    "alphas1 = []\n",
    "alphas2 = []\n",
    "for i in range(0, 102):\n",
    "    alphas1.append(temp__+ 0.00001)\n",
    "    alphas2.append(temp__+ 0.00001)\n",
    "    temp__ +=0.0001\n",
    "res = []\n",
    "res2 = []\n",
    "for train_index, test_index in kf.split(X):\n",
    "    # print(\"TRAIN:\", train_index, \"TEST:\", test_index)\n",
    "    X_train, X_test = X[train_index], X[test_index]\n",
    "    y_train, y_test = Y[train_index], Y[test_index]\n",
    "    model = Lasso()\n",
    "    model2 = Ridge()\n",
    "\n",
    "    # Lasso Implementation\n",
    "    grid = dict()\n",
    "    grid['alpha'] = alphas1\n",
    "    grid_ = GridSearchCV(estimator=model,param_grid=dict(alpha=alphas1))\n",
    "    results = grid_.fit(X_train, y_train)\n",
    "\n",
    "    # print('Alpha: %s' % results.best_estimator_.alpha)\n",
    "    clf = Lasso(alpha=results.best_estimator_.alpha)\n",
    "    clf.fit(X_train, y_train)\n",
    "    predictY2 = clf.predict(X_test)\n",
    "    res.append([results.best_estimator_.alpha,mean_squared_error(y_test, predictY2)])\n",
    "\n",
    "    # Ridge Implementation\n",
    "    grid2 = dict()\n",
    "    grid2['alpha'] = alphas2\n",
    "    grid2_ = GridSearchCV(estimator=model2,param_grid=dict(alpha=alphas2))\n",
    "    results2 = grid2_.fit(X_train, y_train)\n",
    "\n",
    "    clf2 = Ridge(alpha = results2.best_estimator_.alpha)\n",
    "    clf2.fit(X_train,y_train)\n",
    "    predictY22 = clf2.predict(X_test)\n",
    "    res2.append([results2.best_estimator_.alpha,mean_squared_error(y_test, predictY22)])\n",
    "    \n",
    "    "
   ]
  },
  {
   "cell_type": "code",
   "execution_count": null,
   "metadata": {},
   "outputs": [],
   "source": [
    "res.sort(key = lambda x: x[0])\n",
    "res2.sort(key = lambda x: x[0])\n",
    "# print(res2)\n",
    "\n",
    "total_rmse_lasso = 0\n",
    "total_rmse_ridge = 0\n",
    "\n",
    "for i in range(10):\n",
    "    total_rmse_lasso += res[i][1]\n",
    "    total_rmse_ridge += res2[i][1]\n",
    "\n",
    "print(\"Average Lasso RMSE Error = \",str(total_rmse_lasso/10))\n",
    "print(\"Average Ridge RMSE Error = \",str(total_rmse_ridge/10))"
   ]
  },
  {
   "cell_type": "code",
   "execution_count": null,
   "metadata": {},
   "outputs": [],
   "source": [
    "#Plotting MSE v/s alphas\n",
    "import matplotlib.pyplot as plt\n",
    "plt.plot([i[0] for i in res], [i[1] for i in res])\n",
    "plt.xlabel('alpha')\n",
    "plt.ylabel('mean squarred error')\n",
    "plt.xticks(rotation=30)\n",
    "plt.show()\n",
    "\n",
    "plt.figure()\n",
    "plt.plot([i[0] for i in res2], [i[1] for i in res2],'r')\n",
    "plt.xlabel('alpha')\n",
    "plt.ylabel('mean squarred error')\n",
    "plt.xticks(rotation=30)\n",
    "plt.show()"
   ]
  },
  {
   "cell_type": "markdown",
   "metadata": {},
   "source": [
    "The GridSearchCV in case of Ridge Regression return the same value of alpha for all folds, unlike in the case of Lasso Regression. However, the predicted values do vary over the different folds, with a minimum value of around 0.035 and max of around 0.44."
   ]
  },
  {
   "cell_type": "code",
   "execution_count": null,
   "metadata": {},
   "outputs": [],
   "source": [
    "with open('L1.txt','w+') as f:\n",
    "    f.write(str(res))"
   ]
  },
  {
   "cell_type": "markdown",
   "metadata": {},
   "source": [
    "## Baseline Linear Regression"
   ]
  },
  {
   "cell_type": "code",
   "execution_count": null,
   "metadata": {},
   "outputs": [],
   "source": [
    "dataY = pd.read_csv('../datasets/spotofy_music_labels.csv')\n",
    "Y = np.array(dataY)\n",
    "Y = convert_labels(Y)\n",
    "# Y.tofile('datasets/binary_labels.csv',sep=',')\n",
    "print(Y)"
   ]
  },
  {
   "cell_type": "code",
   "execution_count": null,
   "metadata": {},
   "outputs": [],
   "source": [
    "#Using K-fold cross-validation for data and fitting the model:\n",
    "\n",
    "from sklearn.metrics import mean_squared_error\n",
    "num_folds = 5\n",
    "kf = KFold(n_splits=num_folds)\n",
    "\n",
    "i = 1\n",
    "total_error = 0\n",
    "\n",
    "for train_index, test_index in kf.split(X):\n",
    "    X_train, X_test = X[train_index], X[test_index]\n",
    "    y_train, y_test = Y[train_index], Y[test_index]\n",
    "    regressor = LinearRegression()\n",
    "    regressor.fit(X_train, y_train)\n",
    "    y_predicted = regressor.predict(X_test)\n",
    "    score = mean_squared_error(y_test,y_predicted)\n",
    "    print(f\"Score on Fold {i} = \", score)\n",
    "    total_error += score\n",
    "    i += 1\n",
    "\n",
    "print(\"\\nAverage Error = \",str(total_error/num_folds))"
   ]
  },
  {
   "cell_type": "code",
   "execution_count": null,
   "metadata": {},
   "outputs": [],
   "source": [
    "from sklearn.model_selection import train_test_split\n",
    "from sklearn.linear_model import LinearRegression\n",
    "x_train, x_test, y_train, y_test = train_test_split(X, Y, test_size=0.2)"
   ]
  },
  {
   "cell_type": "code",
   "execution_count": null,
   "metadata": {},
   "outputs": [],
   "source": [
    "model = LinearRegression()\n",
    "model.fit(x_train, y_train)\n",
    "y_pred = model.predict(x_test)"
   ]
  },
  {
   "cell_type": "code",
   "execution_count": null,
   "metadata": {},
   "outputs": [],
   "source": [
    "# from scipy import stats\n",
    "from scipy import stats\n",
    "tStat, pValue = stats.ttest_ind(y_pred, y_test, equal_var = False) #run independent sample T-Test\n",
    "print(\"P-Value:{0} T-Statistic:{1}\".format(pValue,tStat)) #print the P-Value and the T-Statistic"
   ]
  },
  {
   "cell_type": "code",
   "execution_count": null,
   "metadata": {},
   "outputs": [],
   "source": [
    "stats.f_oneway(y_pred, y_test)"
   ]
  }
 ],
 "metadata": {
  "interpreter": {
   "hash": "d729a4ed2543bade2014845cc27263339385a6d0379421315c1f7ac5def430e6"
  },
  "kernelspec": {
   "display_name": "Python 3 (ipykernel)",
   "language": "python",
   "name": "python3"
  },
  "language_info": {
   "codemirror_mode": {
    "name": "ipython",
    "version": 3
   },
   "file_extension": ".py",
   "mimetype": "text/x-python",
   "name": "python",
   "nbconvert_exporter": "python",
   "pygments_lexer": "ipython3",
   "version": "3.9.7"
  }
 },
 "nbformat": 4,
 "nbformat_minor": 2
}
