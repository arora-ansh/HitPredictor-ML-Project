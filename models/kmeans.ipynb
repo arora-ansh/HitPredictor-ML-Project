{
 "cells": [
  {
   "cell_type": "code",
   "execution_count": 1,
   "metadata": {},
   "outputs": [],
   "source": [
    "## imports\n",
    "import numpy as np\n",
    "import pandas as pd\n",
    "import matplotlib.pyplot as plt\n",
    "from sklearn.model_selection import train_test_split\n",
    "from sklearn.metrics import classification_report, accuracy_score, confusion_matrix\n",
    "from sklearn.cluster import KMeans\n",
    "from sklearn.decomposition import PCA"
   ]
  },
  {
   "cell_type": "code",
   "execution_count": 2,
   "metadata": {},
   "outputs": [],
   "source": [
    "## bucketizing function\n",
    "def convert_y(dataY):\n",
    "    y = []\n",
    "    for i in range (len(dataY)):\n",
    "        if(dataY[i] > 50):\n",
    "            y.append(0)\n",
    "        else:\n",
    "            y.append(1)\n",
    "    return np.array(y)"
   ]
  },
  {
   "cell_type": "code",
   "execution_count": 3,
   "metadata": {},
   "outputs": [
    {
     "data": {
      "text/html": [
       "<div>\n",
       "<style scoped>\n",
       "    .dataframe tbody tr th:only-of-type {\n",
       "        vertical-align: middle;\n",
       "    }\n",
       "\n",
       "    .dataframe tbody tr th {\n",
       "        vertical-align: top;\n",
       "    }\n",
       "\n",
       "    .dataframe thead th {\n",
       "        text-align: right;\n",
       "    }\n",
       "</style>\n",
       "<table border=\"1\" class=\"dataframe\">\n",
       "  <thead>\n",
       "    <tr style=\"text-align: right;\">\n",
       "      <th></th>\n",
       "      <th>Explicit</th>\n",
       "      <th>Artist_followers</th>\n",
       "      <th>Track_number_on_album</th>\n",
       "      <th>Acousticness</th>\n",
       "      <th>Danceability</th>\n",
       "      <th>Energy</th>\n",
       "      <th>Liveness</th>\n",
       "      <th>Loudness</th>\n",
       "      <th>Speechiness</th>\n",
       "      <th>Tempo</th>\n",
       "      <th>Mode</th>\n",
       "      <th>Key</th>\n",
       "      <th>Valence</th>\n",
       "    </tr>\n",
       "  </thead>\n",
       "  <tbody>\n",
       "    <tr>\n",
       "      <th>0</th>\n",
       "      <td>1.112882</td>\n",
       "      <td>1.012971</td>\n",
       "      <td>-0.703623</td>\n",
       "      <td>-0.253508</td>\n",
       "      <td>-0.056900</td>\n",
       "      <td>-0.257351</td>\n",
       "      <td>-0.321798</td>\n",
       "      <td>-0.287111</td>\n",
       "      <td>1.295366</td>\n",
       "      <td>2.132090</td>\n",
       "      <td>0.865448</td>\n",
       "      <td>0.478965</td>\n",
       "      <td>0.209096</td>\n",
       "    </tr>\n",
       "    <tr>\n",
       "      <th>1</th>\n",
       "      <td>-0.898356</td>\n",
       "      <td>0.172558</td>\n",
       "      <td>-0.703623</td>\n",
       "      <td>0.798171</td>\n",
       "      <td>0.424214</td>\n",
       "      <td>-0.688588</td>\n",
       "      <td>-0.492682</td>\n",
       "      <td>0.282796</td>\n",
       "      <td>-0.811102</td>\n",
       "      <td>-0.910119</td>\n",
       "      <td>0.865448</td>\n",
       "      <td>0.752338</td>\n",
       "      <td>0.774957</td>\n",
       "    </tr>\n",
       "    <tr>\n",
       "      <th>2</th>\n",
       "      <td>-0.898356</td>\n",
       "      <td>-0.658039</td>\n",
       "      <td>-0.703623</td>\n",
       "      <td>0.764382</td>\n",
       "      <td>0.223151</td>\n",
       "      <td>0.783781</td>\n",
       "      <td>0.019972</td>\n",
       "      <td>0.893382</td>\n",
       "      <td>-0.654093</td>\n",
       "      <td>-0.677720</td>\n",
       "      <td>-1.155199</td>\n",
       "      <td>1.025710</td>\n",
       "      <td>1.138724</td>\n",
       "    </tr>\n",
       "    <tr>\n",
       "      <th>3</th>\n",
       "      <td>-0.898356</td>\n",
       "      <td>-0.471741</td>\n",
       "      <td>1.732316</td>\n",
       "      <td>-0.619272</td>\n",
       "      <td>-1.528965</td>\n",
       "      <td>0.506556</td>\n",
       "      <td>-0.410955</td>\n",
       "      <td>0.398452</td>\n",
       "      <td>-0.609112</td>\n",
       "      <td>2.593547</td>\n",
       "      <td>0.865448</td>\n",
       "      <td>0.752338</td>\n",
       "      <td>-1.555849</td>\n",
       "    </tr>\n",
       "    <tr>\n",
       "      <th>4</th>\n",
       "      <td>-0.898356</td>\n",
       "      <td>0.029319</td>\n",
       "      <td>-0.703623</td>\n",
       "      <td>-0.683893</td>\n",
       "      <td>0.330863</td>\n",
       "      <td>-1.138308</td>\n",
       "      <td>1.097289</td>\n",
       "      <td>-0.823916</td>\n",
       "      <td>-0.601473</td>\n",
       "      <td>-0.142817</td>\n",
       "      <td>0.865448</td>\n",
       "      <td>-1.434643</td>\n",
       "      <td>-1.806445</td>\n",
       "    </tr>\n",
       "  </tbody>\n",
       "</table>\n",
       "</div>"
      ],
      "text/plain": [
       "   Explicit  Artist_followers  Track_number_on_album  Acousticness  \\\n",
       "0  1.112882          1.012971              -0.703623     -0.253508   \n",
       "1 -0.898356          0.172558              -0.703623      0.798171   \n",
       "2 -0.898356         -0.658039              -0.703623      0.764382   \n",
       "3 -0.898356         -0.471741               1.732316     -0.619272   \n",
       "4 -0.898356          0.029319              -0.703623     -0.683893   \n",
       "\n",
       "   Danceability    Energy  Liveness  Loudness  Speechiness     Tempo  \\\n",
       "0     -0.056900 -0.257351 -0.321798 -0.287111     1.295366  2.132090   \n",
       "1      0.424214 -0.688588 -0.492682  0.282796    -0.811102 -0.910119   \n",
       "2      0.223151  0.783781  0.019972  0.893382    -0.654093 -0.677720   \n",
       "3     -1.528965  0.506556 -0.410955  0.398452    -0.609112  2.593547   \n",
       "4      0.330863 -1.138308  1.097289 -0.823916    -0.601473 -0.142817   \n",
       "\n",
       "       Mode       Key   Valence  \n",
       "0  0.865448  0.478965  0.209096  \n",
       "1  0.865448  0.752338  0.774957  \n",
       "2 -1.155199  1.025710  1.138724  \n",
       "3  0.865448  0.752338 -1.555849  \n",
       "4  0.865448 -1.434643 -1.806445  "
      ]
     },
     "execution_count": 3,
     "metadata": {},
     "output_type": "execute_result"
    }
   ],
   "source": [
    "## reading the music data\n",
    "dataX = pd.read_csv('./datasets/spotofy_music_normalized.csv')\n",
    "dataY = pd.read_csv('./datasets/spotofy_music_labels.csv')\n",
    "dataY_multi = pd.read_csv('./datasets/spotofy_music_labels.csv')\n",
    "Y = convert_y(np.array(dataY))\n",
    "dataX.head()"
   ]
  },
  {
   "cell_type": "code",
   "execution_count": 4,
   "metadata": {},
   "outputs": [
    {
     "data": {
      "text/plain": [
       "(4247, 1)"
      ]
     },
     "execution_count": 4,
     "metadata": {},
     "output_type": "execute_result"
    }
   ],
   "source": [
    "dataY.shape"
   ]
  },
  {
   "cell_type": "code",
   "execution_count": 16,
   "metadata": {},
   "outputs": [
    {
     "data": {
      "text/plain": [
       "KMeans(n_init=4)"
      ]
     },
     "execution_count": 16,
     "metadata": {},
     "output_type": "execute_result"
    }
   ],
   "source": [
    "## dimensionality reduction via Principal Component Anlysis (PCA) to 2 dimensions only for visualization\n",
    "reduced_data = PCA(n_components=2).fit_transform(dataX)\n",
    "## applying k-means clustering on dimension reduced data with 4 clusters\n",
    "kmeans = KMeans(init=\"k-means++\", n_init=4)\n",
    "kmeans.fit(reduced_data)"
   ]
  },
  {
   "cell_type": "code",
   "execution_count": 19,
   "metadata": {},
   "outputs": [],
   "source": [
    "from sklearn.metrics import silhouette_score\n",
    "## testing for different number f clusters, which gives the best metric\n",
    "scores = []\n",
    "for i in range(2,30):\n",
    "    reduced_data = PCA(n_components=2).fit_transform(dataX)\n",
    "    kmeans = KMeans(init=\"k-means++\", n_init=4, n_clusters=i)\n",
    "    kmeans.fit(reduced_data)\n",
    "    scores.append(silhouette_score(reduced_data, kmeans.labels_))"
   ]
  },
  {
   "cell_type": "code",
   "execution_count": 20,
   "metadata": {},
   "outputs": [
    {
     "data": {
      "image/png": "[encoded data removed]",
      "text/plain": [
       "<Figure size 432x288 with 1 Axes>"
      ]
     },
     "metadata": {
      "needs_background": "light"
     },
     "output_type": "display_data"
    }
   ],
   "source": [
    "plt.plot(range(2,30), scores)\n",
    "plt.ylabel(\"Silhouette Score\")\n",
    "plt.xlabel(\"Clusters\")\n",
    "plt.show()"
   ]
  },
  {
   "cell_type": "code",
   "execution_count": 21,
   "metadata": {},
   "outputs": [
    {
     "data": {
      "text/plain": [
       "1"
      ]
     },
     "execution_count": 21,
     "metadata": {},
     "output_type": "execute_result"
    }
   ],
   "source": [
    "## 3 number of clusters give the best score\n",
    "np.argmax(scores)"
   ]
  },
  {
   "cell_type": "code",
   "execution_count": 29,
   "metadata": {},
   "outputs": [
    {
     "data": {
      "text/plain": [
       "KMeans(n_clusters=3, n_init=4)"
      ]
     },
     "execution_count": 29,
     "metadata": {},
     "output_type": "execute_result"
    }
   ],
   "source": [
    "## applying k-means clustering with 3 clusters only\n",
    "kmeans_3 = KMeans(init=\"k-means++\", n_init=4, n_clusters=3)\n",
    "kmeans_3.fit(reduced_data)"
   ]
  },
  {
   "cell_type": "code",
   "execution_count": 28,
   "metadata": {},
   "outputs": [
    {
     "data": {
      "text/plain": [
       "0.5"
      ]
     },
     "execution_count": 28,
     "metadata": {},
     "output_type": "execute_result"
    }
   ],
   "source": [
    "## testing if the clusters can be used to signify labels\n",
    "indices = [j for j in range(len(kmeans.labels_)) if kmeans.labels_[j]==0]\n",
    "y = [Y[j] for j in indices]\n",
    "accuracy_score([1]*len(y), y)"
   ]
  },
  {
   "cell_type": "code",
   "execution_count": 11,
   "metadata": {},
   "outputs": [
    {
     "data": {
      "text/plain": [
       "4247"
      ]
     },
     "execution_count": 11,
     "metadata": {},
     "output_type": "execute_result"
    }
   ],
   "source": [
    "len(reduced_data)"
   ]
  },
  {
   "cell_type": "code",
   "execution_count": 31,
   "metadata": {},
   "outputs": [
    {
     "data": {
      "image/png": "[encoded data removed]",
      "text/plain": [
       "<Figure size 720x504 with 1 Axes>"
      ]
     },
     "metadata": {
      "needs_background": "light"
     },
     "output_type": "display_data"
    }
   ],
   "source": [
    "## plotting theclustered data with different colours in a single plot\n",
    "plt.figure(figsize=(10,7))\n",
    "for i in range(3):\n",
    "    indices = [j for j in range(len(kmeans_3.labels_)) if kmeans_3.labels_[j]==i]\n",
    "    plotting = [reduced_data[j] for j in indices]\n",
    "    plt.scatter([x for x,_ in plotting], [y for _,y in plotting], label = f\"{i}\")\n",
    "plt.legend()\n",
    "plt.show()"
   ]
  },
  {
   "cell_type": "code",
   "execution_count": 50,
   "metadata": {},
   "outputs": [
    {
     "data": {
      "image/png": "[encoded data removed]",
      "text/plain": [
       "<Figure size 720x504 with 1 Axes>"
      ]
     },
     "metadata": {
      "needs_background": "light"
     },
     "output_type": "display_data"
    }
   ],
   "source": [
    "## plotting bar graph for report\n",
    "X = ['Random Forest', 'Adaboost', 'XgBoost']\n",
    "Y_3 = [0.300,0.671,0.706] ## k=3\n",
    "Y_5 = [0.311,0.683,0.710] ## k=5\n",
    "def addlabels(x,y, p = 0.2):\n",
    "    for i in range(len(x)):\n",
    "        plt.text(i+p, y[i]/2, y[i], ha = 'center')\n",
    "\n",
    "plt.figure(figsize=(10,7))\n",
    "plt.bar(np.arange(len(X))-0.2, Y_3, 0.4, label = \"k=3\", alpha = 1)\n",
    "plt.bar(np.arange(len(X))+0.2, Y_5, 0.4, label = \"k=5\", alpha = 1)\n",
    "plt.xticks(np.arange(len(X)), X)\n",
    "addlabels(np.arange(len(X)), Y_3,p=-0.2)\n",
    "addlabels(np.arange(len(X)), Y_5,p=+0.2)\n",
    "plt.yticks([0.05*i for i in range(15)])\n",
    "plt.legend()\n",
    "plt.show()\n"
   ]
  }
 ],
 "metadata": {
  "interpreter": {
   "hash": "d108135fb893a8562438fc5269c8670742940eeb15c1ac1731ab3f314a65c4ea"
  },
  "kernelspec": {
   "display_name": "Python 3.8.3 64-bit ('venv': venv)",
   "language": "python",
   "name": "python3"
  },
  "language_info": {
   "codemirror_mode": {
    "name": "ipython",
    "version": 3
   },
   "file_extension": ".py",
   "mimetype": "text/x-python",
   "name": "python",
   "nbconvert_exporter": "python",
   "pygments_lexer": "ipython3",
   "version": "3.8.3"
  },
  "orig_nbformat": 4
 },
 "nbformat": 4,
 "nbformat_minor": 2
}
