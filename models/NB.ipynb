{
 "cells": [
  {
   "cell_type": "markdown",
   "id": "81863361",
   "metadata": {},
   "source": [
    "### Imports"
   ]
  },
  {
   "cell_type": "code",
   "execution_count": 1,
   "id": "4d2fb26c",
   "metadata": {},
   "outputs": [],
   "source": [
    "import numpy as np\n",
    "from sklearn.model_selection import train_test_split\n",
    "from sklearn.model_selection import KFold\n",
    "from sklearn import datasets\n",
    "import pandas as pd\n",
    "from sklearn.naive_bayes import GaussianNB\n",
    "from sklearn.naive_bayes import BernoulliNB\n",
    "from sklearn.naive_bayes import MultinomialNB\n",
    "from sklearn.metrics import accuracy_score\n",
    "import math"
   ]
  },
  {
   "cell_type": "markdown",
   "id": "88c9d47c",
   "metadata": {},
   "source": [
    "### Preprocessing"
   ]
  },
  {
   "cell_type": "code",
   "execution_count": 2,
   "id": "e94eb27b",
   "metadata": {},
   "outputs": [],
   "source": [
    "# Defining labels for ranking and binary scores(hit/non-hit):\n",
    "def convert_labels(x):\n",
    "    y = []\n",
    "    for i in range(len(x)):\n",
    "        y.append([(199.7-0.7*x[i][0])/199])\n",
    "    return np.array(y)\n",
    "\n",
    "def binary_labels(x):\n",
    "    y=[]\n",
    "    for i in range(0, len(x)):\n",
    "        if(x[i]>50):\n",
    "            y.append(0)\n",
    "        else:\n",
    "            y.append(1)\n",
    "    return np.array(y)\n",
    "\n",
    "\n"
   ]
  },
  {
   "cell_type": "code",
   "execution_count": 3,
   "id": "18d5ecd6",
   "metadata": {},
   "outputs": [
    {
     "name": "stdout",
     "output_type": "stream",
     "text": [
      "2819\n",
      "1428\n",
      "[1 1 1 ... 0 0 0]\n"
     ]
    }
   ],
   "source": [
    "#Reading data\n",
    "dataX = pd.read_csv('../datasets/spotofy_music_normalized.csv')\n",
    "dataX.head()\n",
    "m = len(dataX) # Number of  examples\n",
    "X = np.array(dataX)\n",
    "\n",
    "dataY = pd.read_csv('../datasets/spotofy_music_labels.csv')\n",
    "dataY.head()\n",
    "Y = np.array(dataY)\n",
    "Y = binary_labels(Y)\n",
    "\n",
    "print(np.sum(Y==0))\n",
    "print(np.sum(Y==1))\n",
    "Y.shape\n",
    "# Y = convert_labels(Y)\n",
    "print(Y)"
   ]
  },
  {
   "cell_type": "markdown",
   "id": "7b00f208",
   "metadata": {},
   "source": [
    "### Analysis through NB"
   ]
  },
  {
   "cell_type": "code",
   "execution_count": 4,
   "id": "2d903683",
   "metadata": {},
   "outputs": [
    {
     "name": "stdout",
     "output_type": "stream",
     "text": [
      "0.6743613290477996 0.6576414259381259\n"
     ]
    }
   ],
   "source": [
    "#Using K-fold cross-validation for data fitting the model:\n",
    "\n",
    "kf = KFold(n_splits=3)\n",
    "res = []\n",
    "res2 = []\n",
    "res3 = []\n",
    "for train_index, test_index in kf.split(X):\n",
    "    X_train, X_test = X[train_index], X[test_index]\n",
    "    y_train, y_test = Y[train_index], Y[test_index]\n",
    "    model = GaussianNB()\n",
    "    model2= BernoulliNB()\n",
    "    \n",
    "    model.fit(X_train, y_train)    \n",
    "    model2.fit(X_train, y_train)\n",
    "\n",
    "    predicted_y = model.predict(X_test)\n",
    "    predicted_y2 = model2.predict(X_test)\n",
    "\n",
    "    res.append(accuracy_score(predicted_y, y_test))    \n",
    "    res2.append(accuracy_score(predicted_y2, y_test))\n",
    "\n",
    "\n",
    "res = np.array(res)\n",
    "res2 = np.array(res2)\n",
    "\n",
    "print(res.mean(), res2.mean())\n",
    "    "
   ]
  }
 ],
 "metadata": {
  "kernelspec": {
   "display_name": "Python 3 (ipykernel)",
   "language": "python",
   "name": "python3"
  },
  "language_info": {
   "codemirror_mode": {
    "name": "ipython",
    "version": 3
   },
   "file_extension": ".py",
   "mimetype": "text/x-python",
   "name": "python",
   "nbconvert_exporter": "python",
   "pygments_lexer": "ipython3",
   "version": "3.9.7"
  }
 },
 "nbformat": 4,
 "nbformat_minor": 5
}
