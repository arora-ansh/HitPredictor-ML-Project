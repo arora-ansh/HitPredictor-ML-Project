{
 "cells": [
  {
   "cell_type": "code",
   "execution_count": 1,
   "id": "4d2fb26c",
   "metadata": {},
   "outputs": [
    {
     "name": "stderr",
     "output_type": "stream",
     "text": [
      "C:\\Python39\\lib\\site-packages\\numpy\\_distributor_init.py:30: UserWarning: loaded more than 1 DLL from .libs:\n",
      "C:\\Python39\\lib\\site-packages\\numpy\\.libs\\libopenblas.JPIJNSWNNAN3CE6LLI5FWSPHUT2VXMTH.gfortran-win_amd64.dll\n",
      "C:\\Python39\\lib\\site-packages\\numpy\\.libs\\libopenblas.WCDJNK7YVMPZQ2ME2ZZHJJRJ3JIKNDB7.gfortran-win_amd64.dll\n",
      "  warnings.warn(\"loaded more than 1 DLL from .libs:\"\n"
     ]
    }
   ],
   "source": [
    "import numpy as np\n",
    "from sklearn.model_selection import train_test_split\n",
    "from sklearn.model_selection import KFold\n",
    "from sklearn import datasets\n",
    "import pandas as pd\n",
    "from sklearn.naive_bayes import GaussianNB\n",
    "from sklearn.naive_bayes import BernoulliNB\n",
    "from sklearn.naive_bayes import MultinomialNB\n",
    "from sklearn.metrics import accuracy_score\n",
    "import math"
   ]
  },
  {
   "cell_type": "code",
   "execution_count": 2,
   "id": "e94eb27b",
   "metadata": {},
   "outputs": [],
   "source": [
    "def convert_labels(x):\n",
    "    y = []\n",
    "    for i in range(len(x)):\n",
    "        y.append([(199.7-0.7*x[i][0])/199])\n",
    "    return np.array(y)\n",
    "\n",
    "def binary_labels(x):\n",
    "    y=[]\n",
    "    for i in range(0, len(x)):\n",
    "        if(x[i]>50):\n",
    "            y.append(0)\n",
    "        else:\n",
    "            y.append(1)\n",
    "    return np.array(y)\n",
    "\n",
    "\n"
   ]
  },
  {
   "cell_type": "code",
   "execution_count": 3,
   "id": "18d5ecd6",
   "metadata": {},
   "outputs": [
    {
     "name": "stdout",
     "output_type": "stream",
     "text": [
      "2819\n",
      "1428\n",
      "[1 1 1 ... 0 0 0]\n"
     ]
    }
   ],
   "source": [
    "dataX = pd.read_csv('../datasets/spotofy_music_normalized.csv')\n",
    "dataX.head()\n",
    "m = len(dataX) # Number of  examples\n",
    "X = np.array(dataX)\n",
    "\n",
    "dataY = pd.read_csv('../datasets/spotofy_music_labels.csv')\n",
    "dataY.head()\n",
    "Y = np.array(dataY)\n",
    "Y = binary_labels(Y)\n",
    "\n",
    "print(np.sum(Y==0))\n",
    "print(np.sum(Y==1))\n",
    "Y.shape\n",
    "# Y = convert_labels(Y)\n",
    "print(Y)"
   ]
  },
  {
   "cell_type": "code",
   "execution_count": 13,
   "id": "2d903683",
   "metadata": {},
   "outputs": [
    {
     "name": "stdout",
     "output_type": "stream",
     "text": [
      "0.6743613290477996 0.6576414259381259 nan\n"
     ]
    },
    {
     "name": "stderr",
     "output_type": "stream",
     "text": [
      "C:\\Users\\Nandika\\AppData\\Local\\Temp/ipykernel_11680/190256303.py:31: RuntimeWarning: Mean of empty slice.\n",
      "  print(res.mean(), res2.mean(), res3.mean())\n",
      "C:\\Users\\Nandika\\AppData\\Local\\Programs\\Python\\Python39\\lib\\site-packages\\numpy\\core\\_methods.py:189: RuntimeWarning: invalid value encountered in double_scalars\n",
      "  ret = ret.dtype.type(ret / rcount)\n"
     ]
    }
   ],
   "source": [
    "kf = KFold(n_splits=3)\n",
    "res = []\n",
    "res2 = []\n",
    "res3 = []\n",
    "for train_index, test_index in kf.split(X):\n",
    "#     print(\"TRAIN:\", train_index, \"TEST:\", test_index)\n",
    "    X_train, X_test = X[train_index], X[test_index]\n",
    "    y_train, y_test = Y[train_index], Y[test_index]\n",
    "    model = GaussianNB()\n",
    "    model2= BernoulliNB()\n",
    "#     model3 = MultinomialNB()\n",
    "    \n",
    "    model.fit(X_train, y_train)    \n",
    "    model2.fit(X_train, y_train)\n",
    "#     model3.fit(X_train, y_train)\n",
    "\n",
    "    predicted_y = model.predict(X_test)\n",
    "    predicted_y2 = model2.predict(X_test)\n",
    "#     predicted_y3 = model3.predict(X_test)\n",
    "\n",
    "    res.append(accuracy_score(predicted_y, y_test))    \n",
    "    res2.append(accuracy_score(predicted_y2, y_test))\n",
    "#     res3.append(accuracy_score(predicted_y3, y_test))\n",
    "\n",
    "\n",
    "res = np.array(res)\n",
    "res2 = np.array(res2)\n",
    "res3 = np.array(res3)\n",
    "\n",
    "\n",
    "print(res.mean(), res2.mean(), res3.mean())\n",
    "    "
   ]
  }
 ],
 "metadata": {
  "kernelspec": {
   "display_name": "Python 3 (ipykernel)",
   "language": "python",
   "name": "python3"
  },
  "language_info": {
   "codemirror_mode": {
    "name": "ipython",
    "version": 3
   },
   "file_extension": ".py",
   "mimetype": "text/x-python",
   "name": "python",
   "nbconvert_exporter": "python",
   "pygments_lexer": "ipython3",
   "version": "3.9.7"
  }
 },
 "nbformat": 4,
 "nbformat_minor": 5
}
