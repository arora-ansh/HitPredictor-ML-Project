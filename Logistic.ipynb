{
 "cells": [
  {
   "cell_type": "code",
   "execution_count": 7,
   "id": "18596322",
   "metadata": {},
   "outputs": [],
   "source": [
    "import numpy as np\n",
    "import pandas as pd\n",
    "import matplotlib.pyplot as plt\n",
    "from sklearn.model_selection import train_test_split\n",
    "from sklearn.model_selection import KFold\n",
    "from sklearn.linear_model import SGDClassifier\n",
    "from sklearn.metrics import classification_report, accuracy_score, confusion_matrix\n"
   ]
  },
  {
   "cell_type": "code",
   "execution_count": 8,
   "id": "904d27b0",
   "metadata": {},
   "outputs": [],
   "source": [
    "def convert_y(dataY):\n",
    "    y = []\n",
    "    for i in range (len(dataY)):\n",
    "        if(dataY[i] > 100):\n",
    "            y.append(0)\n",
    "        else:\n",
    "            y.append(1)\n",
    "    return np.array(y)"
   ]
  },
  {
   "cell_type": "code",
   "execution_count": 9,
   "id": "4eb4ecd4",
   "metadata": {},
   "outputs": [
    {
     "name": "stdout",
     "output_type": "stream",
     "text": [
      "[1 1 1 ... 0 0 0]\n"
     ]
    }
   ],
   "source": [
    "dataX = pd.read_csv('./datasets/spotofy_music_normalized.csv')\n",
    "dataX.head()\n",
    "m = len(dataX) # Number of  examples\n",
    "X = np.array(dataX)\n",
    "\n",
    "dataY = pd.read_csv('./datasets/spotofy_music_labels.csv')\n",
    "dataY.head()\n",
    "Y = np.array(dataY)\n",
    "Y = convert_y(Y)\n",
    "Y = np.array(Y)\n",
    "print(Y)"
   ]
  },
  {
   "cell_type": "code",
   "execution_count": 10,
   "id": "1419e9d9",
   "metadata": {},
   "outputs": [],
   "source": [
    "def accuracy(Y,y_pred):\n",
    "    return np.sum(y_pred==Y)/len(Y)\n"
   ]
  },
  {
   "cell_type": "code",
   "execution_count": 12,
   "id": "d0198ba1",
   "metadata": {},
   "outputs": [
    {
     "name": "stdout",
     "output_type": "stream",
     "text": [
      "Confusion Matrix is :\n",
      "[[130 249]\n",
      " [113 358]]\n",
      "\n",
      "Accuracy is: 0.5741176470588235\n",
      "Precison is: 0.5897858319604613\n",
      "Recall is: 0.7600849256900213\n",
      "F1-score of SGD is: 0.6641929499072358\n",
      "\n",
      "Confusion Matrix is :\n",
      "[[118 214]\n",
      " [101 417]]\n",
      "\n",
      "Accuracy is: 0.6294117647058823\n",
      "Precison is: 0.6608557844690967\n",
      "Recall is: 0.805019305019305\n",
      "F1-score of SGD is: 0.7258485639686684\n",
      "\n",
      "Confusion Matrix is :\n",
      "[[ 78 311]\n",
      " [ 64 396]]\n",
      "\n",
      "Accuracy is: 0.558303886925795\n",
      "Precison is: 0.5601131541725601\n",
      "Recall is: 0.8608695652173913\n",
      "F1-score of SGD is: 0.6786632390745502\n",
      "\n",
      "Confusion Matrix is :\n",
      "[[ 84 240]\n",
      " [102 423]]\n",
      "\n",
      "Accuracy is: 0.5971731448763251\n",
      "Precison is: 0.6380090497737556\n",
      "Recall is: 0.8057142857142857\n",
      "F1-score of SGD is: 0.712121212121212\n",
      "\n",
      "Confusion Matrix is :\n",
      "[[ 75 260]\n",
      " [ 71 443]]\n",
      "\n",
      "Accuracy is: 0.6101295641931684\n",
      "Precison is: 0.6301564722617354\n",
      "Recall is: 0.8618677042801557\n",
      "F1-score of SGD is: 0.7280197206244865\n",
      "\n"
     ]
    }
   ],
   "source": [
    "kf = KFold(n_splits=5)\n",
    "for train_index, test_index in kf.split(X):\n",
    "    X_train, X_test = X[train_index], X[test_index]\n",
    "    y_train, y_test = Y[train_index], Y[test_index]\n",
    "    model = SGDClassifier(alpha=0.001, penalty='l2')\n",
    "    model.fit(X_train, y_train)\n",
    "    y_predicted = model.predict(X_test)\n",
    "    confusionM = confusion_matrix(y_test,y_predicted )\n",
    "    print(\"Confusion Matrix is :\")\n",
    "    print(confusionM)\n",
    "    print()\n",
    "    print(\"Accuracy is:\",accuracy(y_test, y_predicted))\n",
    "    TP = confusionM[1][1]\n",
    "    TN = confusionM[0][0]\n",
    "    FN = confusionM[1][0]\n",
    "    FP = confusionM[0][1]\n",
    "    precision = TP/(TP+FP)\n",
    "    recall = TP/(TP+FN)\n",
    "    precision = TP/(TP+FP)\n",
    "    recall = TP/(TP+FN)\n",
    "    f1_score = 2*((precision* recall)/ (precision+recall))\n",
    "    print(\"Precison is:\", precision)\n",
    "    print(\"Recall is:\", recall)\n",
    "    print(\"F1-score of SGD is:\", f1_score)\n",
    "    print()\n",
    "\n"
   ]
  },
  {
   "cell_type": "code",
   "execution_count": null,
   "id": "1c77e41d",
   "metadata": {},
   "outputs": [],
   "source": []
  },
  {
   "cell_type": "code",
   "execution_count": null,
   "id": "de3d5d24",
   "metadata": {},
   "outputs": [],
   "source": []
  }
 ],
 "metadata": {
  "kernelspec": {
   "display_name": "Python 3 (ipykernel)",
   "language": "python",
   "name": "python3"
  },
  "language_info": {
   "codemirror_mode": {
    "name": "ipython",
    "version": 3
   },
   "file_extension": ".py",
   "mimetype": "text/x-python",
   "name": "python",
   "nbconvert_exporter": "python",
   "pygments_lexer": "ipython3",
   "version": "3.9.7"
  }
 },
 "nbformat": 4,
 "nbformat_minor": 5
}
