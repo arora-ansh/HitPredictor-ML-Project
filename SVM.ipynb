{
 "cells": [
  {
   "cell_type": "code",
   "execution_count": 20,
   "id": "d819fdf2",
   "metadata": {},
   "outputs": [],
   "source": [
    "import pandas as pd\n",
    "from sklearn.svm import SVC, LinearSVC\n",
    "from sklearn.multiclass import OneVsRestClassifier\n",
    "import numpy as np\n",
    "from sklearn.model_selection import train_test_split\n",
    "from sklearn.model_selection import KFold"
   ]
  },
  {
   "cell_type": "code",
   "execution_count": 21,
   "id": "2ed831e5",
   "metadata": {},
   "outputs": [],
   "source": [
    "def convert_y(dataY):\n",
    "    y = []\n",
    "    for i in range (len(dataY)):\n",
    "        if(dataY[i] > 50):\n",
    "            y.append(0)\n",
    "        else:\n",
    "            y.append(1)\n",
    "    return np.array(y)"
   ]
  },
  {
   "cell_type": "code",
   "execution_count": 22,
   "id": "ed58ceb0",
   "metadata": {},
   "outputs": [],
   "source": [
    "def convert_labels(x):\n",
    "    y = []\n",
    "    for i in range(len(x)):\n",
    "        y.append((199.7-0.7*x[i][0])/199)\n",
    "        # y.append([201-x[i][0]])\n",
    "    return np.array(y)"
   ]
  },
  {
   "cell_type": "code",
   "execution_count": 23,
   "id": "9fa44d3d",
   "metadata": {},
   "outputs": [
    {
     "name": "stdout",
     "output_type": "stream",
     "text": [
      "[1 1 1 ... 0 0 0]\n"
     ]
    }
   ],
   "source": [
    "dataX = pd.read_csv('./datasets/spotofy_music_normalized.csv')\n",
    "dataX.head()\n",
    "m = len(dataX) # Number of  examples\n",
    "X = np.array(dataX)\n",
    "\n",
    "dataY = pd.read_csv('./datasets/spotofy_music_labels.csv')\n",
    "dataY.head()\n",
    "Y = np.array(dataY)\n",
    "Y = convert_y(Y)\n",
    "Y = np.array(Y)\n",
    "print(Y)\n"
   ]
  },
  {
   "cell_type": "code",
   "execution_count": 24,
   "id": "b67dc15b",
   "metadata": {},
   "outputs": [
    {
     "name": "stdout",
     "output_type": "stream",
     "text": [
      "score :  0.6929411764705883\n",
      "Confusion Matrix is :\n",
      "[[546  34]\n",
      " [227  43]]\n",
      "Accuracy is: 0.6929411764705883\n",
      "Precison is: 0.56\n",
      "Recall is: 0.16\n",
      "\n",
      "score :  0.6705882352941176\n",
      "Confusion Matrix is :\n",
      "[[521  19]\n",
      " [261  49]]\n",
      "Accuracy is: 0.6705882352941176\n",
      "Precison is: 0.72\n",
      "Recall is: 0.16\n",
      "\n",
      "score :  0.6925795053003534\n",
      "Confusion Matrix is :\n",
      "[[588   0]\n",
      " [261   0]]\n",
      "Accuracy is: 0.6925795053003534\n",
      "Precison is: nan\n",
      "Recall is: 0.0\n",
      "\n"
     ]
    },
    {
     "name": "stderr",
     "output_type": "stream",
     "text": [
      "C:\\Users\\Nandika\\AppData\\Local\\Temp/ipykernel_20168/2526830373.py:48: RuntimeWarning: invalid value encountered in longlong_scalars\n",
      "  precision = TP/(TP+FP)\n"
     ]
    },
    {
     "name": "stdout",
     "output_type": "stream",
     "text": [
      "score :  0.6584216725559482\n",
      "Confusion Matrix is :\n",
      "[[538  17]\n",
      " [273  21]]\n",
      "Accuracy is: 0.6584216725559482\n",
      "Precison is: 0.55\n",
      "Recall is: 0.07\n",
      "\n",
      "score :  0.6548881036513545\n",
      "Confusion Matrix is :\n",
      "[[556   0]\n",
      " [293   0]]\n",
      "Accuracy is: 0.6548881036513545\n",
      "Precison is: nan\n",
      "Recall is: 0.0\n",
      "\n"
     ]
    },
    {
     "name": "stderr",
     "output_type": "stream",
     "text": [
      "C:\\Users\\Nandika\\AppData\\Local\\Temp/ipykernel_20168/2526830373.py:48: RuntimeWarning: invalid value encountered in longlong_scalars\n",
      "  precision = TP/(TP+FP)\n"
     ]
    },
    {
     "data": {
      "image/png": "[encoded data removed]",
      "text/plain": [
       "<Figure size 432x288 with 2 Axes>"
      ]
     },
     "metadata": {
      "needs_background": "light"
     },
     "output_type": "display_data"
    }
   ],
   "source": [
    "from sklearn.metrics import confusion_matrix, accuracy_score, mean_squared_error\n",
    "import matplotlib.pyplot as plt\n",
    "from sklearn.datasets import make_classification\n",
    "from sklearn.metrics import confusion_matrix, ConfusionMatrixDisplay \n",
    "import seaborn as sns \n",
    "\n",
    "# for train_index, test_index in kf.split(X):\n",
    "# #     print(\"TRAIN:\", train_index, \"TEST:\", test_index)\n",
    "#     X_train, X_test = X[train_index], X[test_index]\n",
    "#     y_train, y_test = Y[train_index], Y[test_index]\n",
    "#     # model = SVC(decision_function_shape = \"ovr\")\n",
    "#     # model.fit(X_train, y_train)\n",
    "#     y_predicted = OneVsRestClassifier(LinearSVC(random_state=0,max_iter=10000)).fit(X_train, y_train).predict(X_test)\n",
    "#     print(\"score : \", accuracy_score(y_test, y_predicted))\n",
    "#     # confusionM = confusion_matrix(y_test,y_predicted )\n",
    "#     # print(\"Confusion Matrix is :\")\n",
    "#     # print(confusionM)\n",
    "#     # print(\"Accuracy is:\",accuracy_score(y_test, y_predicted))\n",
    "#     # TP = confusionM[1][1]\n",
    "#     # TN = confusionM[0][0]\n",
    "#     # FN = confusionM[1][0]\n",
    "#     # FP = confusionM[0][1]\n",
    "#     # precision = TP/(TP+FP)\n",
    "#     # recall = TP/(TP+FN)\n",
    "#     # print(\"Precison is:\", round(precision,2))\n",
    "#     # print(\"Recall is:\", round(recall, 2))\n",
    "#     print()\n",
    "\n",
    "# #     y_predicted = model.predict()\n",
    "kf = KFold(n_splits=5)\n",
    "i =0\n",
    "for train_index, test_index in kf.split(X):\n",
    "    i+=1\n",
    "    X_train, X_test = X[train_index], X[test_index]\n",
    "    y_train, y_test = Y[train_index], Y[test_index]\n",
    "    model = SVC(C=0.1, gamma = 1, kernel = 'linear')\n",
    "    model.fit(X_train, y_train)\n",
    "    y_predicted = model.predict(X_test)\n",
    "    print(\"score : \", accuracy_score(y_test, y_predicted))\n",
    "    confusionM = confusion_matrix(y_test,y_predicted )\n",
    "    print(\"Confusion Matrix is :\")\n",
    "    print(confusionM)\n",
    "    print(\"Accuracy is:\",accuracy_score(y_test, y_predicted))\n",
    "    TP = confusionM[1][1]\n",
    "    TN = confusionM[0][0]\n",
    "    FN = confusionM[1][0]\n",
    "    FP = confusionM[0][1]\n",
    "    precision = TP/(TP+FP)\n",
    "    recall = TP/(TP+FN)\n",
    "    print(\"Precison is:\", round(precision,2))\n",
    "    print(\"Recall is:\", round(recall, 2))\n",
    "    print()\n",
    "    class_names = [\"Not Hit\", \"Hit\"]\n",
    "\n",
    "#     plt.plot()\n",
    "    cm = confusion_matrix(y_test, y_predicted, labels=model.classes_)\n",
    "    if (i==5):\n",
    "        sns.heatmap(cm, annot =True)\n",
    "    \n",
    "    \n",
    "#     disp = ConfusionMatrixDisplay(confusion_matrix=cm,display_labels=model.classes_)\n",
    "# #     \n",
    "# #     disp = ConfusionMatrixDisplay.from_estimator( model, X_test, y_test, display_labels=class_names,cmap=plt.cm.Blues, normalize=True)\n",
    "\n",
    "    \n",
    "# #     class_names = [\"Not Hit\", \"Hit\"]\n",
    "# #     \n",
    "# #     disp = ConfusionMatrixDisplay.from_predictions(y_test, y_predicted, display_labels=class_names,cmap=plt.cm.Blues, normalize=True)\n",
    "# #     disp.ax_.set_title(title)\n",
    "# #     disp = ConfusionMatrixDisplay.from_predictions(y_test, y_predicted)\n",
    "\n",
    "# #     print(title)\n",
    "# #     print(disp.confusion_matrix)\n",
    "#     disp.plot()\n",
    "#     plt.show()\n",
    "\n",
    "#     y_predicted = model.predict()"
   ]
  },
  {
   "cell_type": "code",
   "execution_count": null,
   "id": "80d4f80d",
   "metadata": {},
   "outputs": [],
   "source": []
  },
  {
   "cell_type": "code",
   "execution_count": null,
   "id": "31737a35",
   "metadata": {},
   "outputs": [],
   "source": []
  },
  {
   "cell_type": "code",
   "execution_count": null,
   "id": "6e99e2d4",
   "metadata": {},
   "outputs": [],
   "source": []
  }
 ],
 "metadata": {
  "interpreter": {
   "hash": "63fd5069d213b44bf678585dea6b12cceca9941eaf7f819626cde1f2670de90d"
  },
  "kernelspec": {
   "display_name": "Python 3 (ipykernel)",
   "language": "python",
   "name": "python3"
  },
  "language_info": {
   "codemirror_mode": {
    "name": "ipython",
    "version": 3
   },
   "file_extension": ".py",
   "mimetype": "text/x-python",
   "name": "python",
   "nbconvert_exporter": "python",
   "pygments_lexer": "ipython3",
   "version": "3.9.7"
  }
 },
 "nbformat": 4,
 "nbformat_minor": 5
}
