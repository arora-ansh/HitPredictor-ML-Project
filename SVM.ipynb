{
 "cells": [
  {
   "cell_type": "code",
   "execution_count": 1,
   "id": "d819fdf2",
   "metadata": {},
   "outputs": [],
   "source": [
    "import pandas as pd\n",
    "from sklearn.svm import SVC, LinearSVC\n",
    "from sklearn.multiclass import OneVsRestClassifier\n",
    "import numpy as np\n",
    "from sklearn.model_selection import train_test_split\n",
    "from sklearn.model_selection import KFold"
   ]
  },
  {
   "cell_type": "code",
   "execution_count": 2,
   "id": "2ed831e5",
   "metadata": {},
   "outputs": [],
   "source": [
    "def convert_y(dataY):\n",
    "    y = []\n",
    "    threshold = 50\n",
    "    for i in range (len(dataY)):\n",
    "        if(dataY[i] > threshold):\n",
    "            y.append(0)\n",
    "        else:\n",
    "            y.append(1)\n",
    "    return np.array(y)"
   ]
  },
  {
   "cell_type": "code",
   "execution_count": 3,
   "metadata": {},
   "outputs": [],
   "source": [
    "def convert_labels(x):\n",
    "    y = []\n",
    "    for i in range(len(x)):\n",
    "        y.append((199.7-0.7*x[i][0])/199)\n",
    "        # y.append([201-x[i][0]])\n",
    "    return np.array(y)"
   ]
  },
  {
   "cell_type": "code",
   "execution_count": 4,
   "id": "9fa44d3d",
   "metadata": {},
   "outputs": [
    {
     "name": "stdout",
     "output_type": "stream",
     "text": [
      "[1 1 1 ... 0 0 0]\n"
     ]
    }
   ],
   "source": [
    "dataX = pd.read_csv('./datasets/spotofy_music_normalized.csv')\n",
    "dataX.head()\n",
    "m = len(dataX) # Number of  examples\n",
    "X = np.array(dataX)\n",
    "\n",
    "dataY = pd.read_csv('./datasets/spotofy_music_labels.csv')\n",
    "Y = np.array(dataY)\n",
    "Y = convert_y(Y)\n",
    "# Y.tofile('datasets/binary_labels.csv',sep=',')\n",
    "print(Y)\n"
   ]
  },
  {
   "cell_type": "code",
   "execution_count": 5,
   "id": "b67dc15b",
   "metadata": {},
   "outputs": [
    {
     "name": "stdout",
     "output_type": "stream",
     "text": [
      "Accuracy is: 0.6929411764705883\n",
      "Precison is: 0.56\n",
      "Recall is: 0.16\n",
      "Confusion Matrix is :\n"
     ]
    },
    {
     "data": {
      "text/plain": [
       "<AxesSubplot:>"
      ]
     },
     "execution_count": 5,
     "metadata": {},
     "output_type": "execute_result"
    },
    {
     "data": {
      "image/png": "[encoded data removed]",
      "text/plain": [
       "<Figure size 432x288 with 2 Axes>"
      ]
     },
     "metadata": {
      "needs_background": "light"
     },
     "output_type": "display_data"
    }
   ],
   "source": [
    "kf = KFold(n_splits=5)\n",
    "from sklearn.metrics import confusion_matrix, accuracy_score\n",
    "import seaborn as sns\n",
    "i = 0\n",
    "best_acc = -1e9\n",
    "cm = []\n",
    "for train_index, test_index in kf.split(X):\n",
    "    i+=1\n",
    "#     print(\"TRAIN:\", train_index, \"TEST:\", test_index)\n",
    "    X_train, X_test = X[train_index], X[test_index]\n",
    "    y_train, y_test = Y[train_index], Y[test_index]\n",
    "    model = SVC(kernel = 'linear')\n",
    "    # model = SVC(kernel = 'poly')\n",
    "\n",
    "    model.fit(X_train, y_train)\n",
    "    y_predicted = model.predict(X_test)\n",
    "    confusionM = confusion_matrix(y_test, y_predicted, labels=model.classes_)\n",
    "    acc = accuracy_score(y_test, y_predicted)\n",
    "    if (acc > best_acc):\n",
    "        best_acc = acc\n",
    "        cm = confusionM\n",
    "print(\"Accuracy is:\",best_acc)\n",
    "TP = cm[1][1]\n",
    "TN = cm[0][0]\n",
    "FN = cm[1][0]\n",
    "FP = cm[0][1]\n",
    "precision = TP/(TP+FP)\n",
    "recall = TP/(TP+FN)\n",
    "print(\"Precison is:\", round(precision,2))\n",
    "print(\"Recall is:\", round(recall, 2))\n",
    "print(\"Confusion Matrix is :\")\n",
    "sns.heatmap(cm, annot =True)\n",
    "#     y_predicted = model.predict()"
   ]
  },
  {
   "cell_type": "code",
   "execution_count": 6,
   "id": "70faf7b1",
   "metadata": {},
   "outputs": [
    {
     "name": "stdout",
     "output_type": "stream",
     "text": [
      "[1.         0.99648241 0.99296482 ... 0.48291457 0.3281407  0.31758794]\n"
     ]
    }
   ],
   "source": [
    "dataY = pd.read_csv('./datasets/spotofy_music_labels.csv')\n",
    "Y = np.array(dataY)\n",
    "Y = convert_labels(Y)\n",
    "# Y.tofile('datasets/binary_labels.csv',sep=',')\n",
    "print(Y)"
   ]
  },
  {
   "cell_type": "markdown",
   "metadata": {},
   "source": [
    "## Support Vector Regression -"
   ]
  },
  {
   "cell_type": "code",
   "execution_count": 12,
   "metadata": {},
   "outputs": [
    {
     "name": "stdout",
     "output_type": "stream",
     "text": [
      "Score on Fold 1 =  0.04703801723747615\n",
      "Score on Fold 2 =  0.04458721067630787\n",
      "Score on Fold 3 =  0.047220165095133944\n",
      "Score on Fold 4 =  0.04268181152375282\n",
      "Score on Fold 5 =  0.04325508788133931\n",
      "\n",
      "Average Error =  0.04495645848280202\n"
     ]
    }
   ],
   "source": [
    "from sklearn.svm import SVR\n",
    "from sklearn.metrics import mean_squared_error\n",
    "num_folds = 5\n",
    "kf = KFold(n_splits=num_folds)\n",
    "\n",
    "i = 1\n",
    "total_error = 0\n",
    "for train_index, test_index in kf.split(X):\n",
    "    X_train, X_test = X[train_index], X[test_index]\n",
    "    y_train, y_test = Y[train_index], Y[test_index]\n",
    "    regressor = SVR(kernel = 'rbf')\n",
    "    regressor.fit(X_train, y_train)\n",
    "    y_predicted = regressor.predict(X_test)\n",
    "    score = mean_squared_error(y_test,y_predicted)\n",
    "    print(f\"Score on Fold {i} = \", score)\n",
    "    total_error += score\n",
    "    i += 1\n",
    "\n",
    "print(\"\\nAverage Error = \",str(total_error/num_folds))\n",
    "    "
   ]
  },
  {
   "cell_type": "code",
   "execution_count": null,
   "metadata": {},
   "outputs": [],
   "source": []
  }
 ],
 "metadata": {
  "interpreter": {
   "hash": "40d3a090f54c6569ab1632332b64b2c03c39dcf918b08424e98f38b5ae0af88f"
  },
  "kernelspec": {
   "display_name": "Python 3.8.5 64-bit ('base': conda)",
   "name": "python3"
  },
  "language_info": {
   "codemirror_mode": {
    "name": "ipython",
    "version": 3
   },
   "file_extension": ".py",
   "mimetype": "text/x-python",
   "name": "python",
   "nbconvert_exporter": "python",
   "pygments_lexer": "ipython3",
   "version": "3.8.5"
  }
 },
 "nbformat": 4,
 "nbformat_minor": 5
}
