{
 "cells": [
  {
   "cell_type": "code",
   "execution_count": 4,
   "metadata": {},
   "outputs": [
    {
     "name": "stderr",
     "output_type": "stream",
     "text": [
      "[nltk_data] Downloading package stopwords to\n",
      "[nltk_data]     C:\\Users\\Tushar\\AppData\\Roaming\\nltk_data...\n",
      "[nltk_data]   Package stopwords is already up-to-date!\n",
      "[nltk_data] Downloading package wordnet to\n",
      "[nltk_data]     C:\\Users\\Tushar\\AppData\\Roaming\\nltk_data...\n",
      "[nltk_data]   Package wordnet is already up-to-date!\n",
      "[nltk_data] Downloading package vader_lexicon to\n",
      "[nltk_data]     C:\\Users\\Tushar\\AppData\\Roaming\\nltk_data...\n"
     ]
    },
    {
     "data": {
      "text/plain": [
       "True"
      ]
     },
     "execution_count": 4,
     "metadata": {},
     "output_type": "execute_result"
    }
   ],
   "source": [
    "import nltk\n",
    "nltk.download('stopwords') \n",
    "nltk.download('wordnet')\n",
    "nltk.download('vader_lexicon')"
   ]
  },
  {
   "cell_type": "code",
   "execution_count": 21,
   "metadata": {},
   "outputs": [],
   "source": [
    "from nltk.sentiment.vader import SentimentIntensityAnalyzer\n",
    "import matplotlib.pyplot as plt\n",
    "import seaborn as sns\n",
    "from textblob import TextBlob\n"
   ]
  },
  {
   "cell_type": "code",
   "execution_count": 14,
   "metadata": {},
   "outputs": [
    {
     "data": {
      "text/html": [
       "<div>\n",
       "<style scoped>\n",
       "    .dataframe tbody tr th:only-of-type {\n",
       "        vertical-align: middle;\n",
       "    }\n",
       "\n",
       "    .dataframe tbody tr th {\n",
       "        vertical-align: top;\n",
       "    }\n",
       "\n",
       "    .dataframe thead th {\n",
       "        text-align: right;\n",
       "    }\n",
       "</style>\n",
       "<table border=\"1\" class=\"dataframe\">\n",
       "  <thead>\n",
       "    <tr style=\"text-align: right;\">\n",
       "      <th></th>\n",
       "      <th>Id</th>\n",
       "      <th>Title</th>\n",
       "      <th>Lyrics</th>\n",
       "      <th>lyrics_processed</th>\n",
       "    </tr>\n",
       "  </thead>\n",
       "  <tbody>\n",
       "    <tr>\n",
       "      <th>0</th>\n",
       "      <td>https://open.spotify.com/track/5aAx2yezTd8zXrk...</td>\n",
       "      <td>Starboy The Weeknd</td>\n",
       "      <td>[Verse 1]\\r\\nI'm tryna put you in the worst mo...</td>\n",
       "      <td>i'm tryna put you in the worst mood ah p1 clea...</td>\n",
       "    </tr>\n",
       "    <tr>\n",
       "      <th>1</th>\n",
       "      <td>https://open.spotify.com/track/7BKLCZ1jbUBVqRi...</td>\n",
       "      <td>Closer The Chainsmokers</td>\n",
       "      <td>[Verse 1: Andrew Taggart]\\r\\nHey, I was doing ...</td>\n",
       "      <td>hey i was doing just fine before i met you i d...</td>\n",
       "    </tr>\n",
       "    <tr>\n",
       "      <th>2</th>\n",
       "      <td>https://open.spotify.com/track/5knuzwU65gJK7IF...</td>\n",
       "      <td>Rockabye (feat. Sean Paul &amp; Anne-Marie) Clean ...</td>\n",
       "      <td>[Intro: Sean Paul]\\r\\nCall it love and devotio...</td>\n",
       "      <td>call it love and devotion call it a mom's ador...</td>\n",
       "    </tr>\n",
       "    <tr>\n",
       "      <th>3</th>\n",
       "      <td>https://open.spotify.com/track/4pdPtRcBmOSQDlJ...</td>\n",
       "      <td>Let Me Love You DJ Snake</td>\n",
       "      <td>[Verse 1: Justin Bieber]\\r\\nI used to believe\\...</td>\n",
       "      <td>i used to believe we were burnin' on the edge ...</td>\n",
       "    </tr>\n",
       "    <tr>\n",
       "      <th>4</th>\n",
       "      <td>https://open.spotify.com/track/3NdDpSvN911VPGi...</td>\n",
       "      <td>I Don’t Wanna Live Forever (Fifty Shades Darke...</td>\n",
       "      <td>[Verse 1: ZAYN]\\r\\nBeen sitting eyes wide open...</td>\n",
       "      <td>been sitting eyes wide open behind these four ...</td>\n",
       "    </tr>\n",
       "  </tbody>\n",
       "</table>\n",
       "</div>"
      ],
      "text/plain": [
       "                                                  Id  \\\n",
       "0  https://open.spotify.com/track/5aAx2yezTd8zXrk...   \n",
       "1  https://open.spotify.com/track/7BKLCZ1jbUBVqRi...   \n",
       "2  https://open.spotify.com/track/5knuzwU65gJK7IF...   \n",
       "3  https://open.spotify.com/track/4pdPtRcBmOSQDlJ...   \n",
       "4  https://open.spotify.com/track/3NdDpSvN911VPGi...   \n",
       "\n",
       "                                               Title  \\\n",
       "0                                 Starboy The Weeknd   \n",
       "1                            Closer The Chainsmokers   \n",
       "2  Rockabye (feat. Sean Paul & Anne-Marie) Clean ...   \n",
       "3                           Let Me Love You DJ Snake   \n",
       "4  I Don’t Wanna Live Forever (Fifty Shades Darke...   \n",
       "\n",
       "                                              Lyrics  \\\n",
       "0  [Verse 1]\\r\\nI'm tryna put you in the worst mo...   \n",
       "1  [Verse 1: Andrew Taggart]\\r\\nHey, I was doing ...   \n",
       "2  [Intro: Sean Paul]\\r\\nCall it love and devotio...   \n",
       "3  [Verse 1: Justin Bieber]\\r\\nI used to believe\\...   \n",
       "4  [Verse 1: ZAYN]\\r\\nBeen sitting eyes wide open...   \n",
       "\n",
       "                                    lyrics_processed  \n",
       "0  i'm tryna put you in the worst mood ah p1 clea...  \n",
       "1  hey i was doing just fine before i met you i d...  \n",
       "2  call it love and devotion call it a mom's ador...  \n",
       "3  i used to believe we were burnin' on the edge ...  \n",
       "4  been sitting eyes wide open behind these four ...  "
      ]
     },
     "execution_count": 14,
     "metadata": {},
     "output_type": "execute_result"
    }
   ],
   "source": [
    "import pandas as pd\n",
    "df = pd.read_csv('./datasets/lyrics_processed.csv')\n",
    "df.lyrics_processed = df.lyrics_processed.astype(str)\n",
    "df.head()"
   ]
  },
  {
   "cell_type": "code",
   "execution_count": 15,
   "metadata": {},
   "outputs": [
    {
     "data": {
      "text/plain": [
       "{'neg': 0.0, 'neu': 0.423, 'pos': 0.577, 'compound': 0.6249}"
      ]
     },
     "execution_count": 15,
     "metadata": {},
     "output_type": "execute_result"
    }
   ],
   "source": [
    "example = 'The movie was awesome.'\n",
    "sid = SentimentIntensityAnalyzer()\n",
    "sid.polarity_scores(example)"
   ]
  },
  {
   "cell_type": "code",
   "execution_count": 17,
   "metadata": {},
   "outputs": [
    {
     "data": {
      "text/html": [
       "<div>\n",
       "<style scoped>\n",
       "    .dataframe tbody tr th:only-of-type {\n",
       "        vertical-align: middle;\n",
       "    }\n",
       "\n",
       "    .dataframe tbody tr th {\n",
       "        vertical-align: top;\n",
       "    }\n",
       "\n",
       "    .dataframe thead th {\n",
       "        text-align: right;\n",
       "    }\n",
       "</style>\n",
       "<table border=\"1\" class=\"dataframe\">\n",
       "  <thead>\n",
       "    <tr style=\"text-align: right;\">\n",
       "      <th></th>\n",
       "      <th>Id</th>\n",
       "      <th>Title</th>\n",
       "      <th>Lyrics</th>\n",
       "      <th>lyrics_processed</th>\n",
       "      <th>neg</th>\n",
       "      <th>neu</th>\n",
       "      <th>pos</th>\n",
       "      <th>compound</th>\n",
       "    </tr>\n",
       "  </thead>\n",
       "  <tbody>\n",
       "    <tr>\n",
       "      <th>0</th>\n",
       "      <td>https://open.spotify.com/track/5aAx2yezTd8zXrk...</td>\n",
       "      <td>Starboy The Weeknd</td>\n",
       "      <td>[Verse 1]\\r\\nI'm tryna put you in the worst mo...</td>\n",
       "      <td>i'm tryna put you in the worst mood ah p1 clea...</td>\n",
       "      <td>0.152</td>\n",
       "      <td>0.777</td>\n",
       "      <td>0.071</td>\n",
       "      <td>-0.9883</td>\n",
       "    </tr>\n",
       "    <tr>\n",
       "      <th>1</th>\n",
       "      <td>https://open.spotify.com/track/7BKLCZ1jbUBVqRi...</td>\n",
       "      <td>Closer The Chainsmokers</td>\n",
       "      <td>[Verse 1: Andrew Taggart]\\r\\nHey, I was doing ...</td>\n",
       "      <td>hey i was doing just fine before i met you i d...</td>\n",
       "      <td>0.058</td>\n",
       "      <td>0.831</td>\n",
       "      <td>0.111</td>\n",
       "      <td>0.9597</td>\n",
       "    </tr>\n",
       "    <tr>\n",
       "      <th>2</th>\n",
       "      <td>https://open.spotify.com/track/5knuzwU65gJK7IF...</td>\n",
       "      <td>Rockabye (feat. Sean Paul &amp; Anne-Marie) Clean ...</td>\n",
       "      <td>[Intro: Sean Paul]\\r\\nCall it love and devotio...</td>\n",
       "      <td>call it love and devotion call it a mom's ador...</td>\n",
       "      <td>0.058</td>\n",
       "      <td>0.712</td>\n",
       "      <td>0.229</td>\n",
       "      <td>0.9988</td>\n",
       "    </tr>\n",
       "    <tr>\n",
       "      <th>3</th>\n",
       "      <td>https://open.spotify.com/track/4pdPtRcBmOSQDlJ...</td>\n",
       "      <td>Let Me Love You DJ Snake</td>\n",
       "      <td>[Verse 1: Justin Bieber]\\r\\nI used to believe\\...</td>\n",
       "      <td>i used to believe we were burnin' on the edge ...</td>\n",
       "      <td>0.213</td>\n",
       "      <td>0.575</td>\n",
       "      <td>0.212</td>\n",
       "      <td>0.9854</td>\n",
       "    </tr>\n",
       "    <tr>\n",
       "      <th>4</th>\n",
       "      <td>https://open.spotify.com/track/3NdDpSvN911VPGi...</td>\n",
       "      <td>I Don’t Wanna Live Forever (Fifty Shades Darke...</td>\n",
       "      <td>[Verse 1: ZAYN]\\r\\nBeen sitting eyes wide open...</td>\n",
       "      <td>been sitting eyes wide open behind these four ...</td>\n",
       "      <td>0.120</td>\n",
       "      <td>0.829</td>\n",
       "      <td>0.051</td>\n",
       "      <td>-0.9750</td>\n",
       "    </tr>\n",
       "  </tbody>\n",
       "</table>\n",
       "</div>"
      ],
      "text/plain": [
       "                                                  Id  \\\n",
       "0  https://open.spotify.com/track/5aAx2yezTd8zXrk...   \n",
       "1  https://open.spotify.com/track/7BKLCZ1jbUBVqRi...   \n",
       "2  https://open.spotify.com/track/5knuzwU65gJK7IF...   \n",
       "3  https://open.spotify.com/track/4pdPtRcBmOSQDlJ...   \n",
       "4  https://open.spotify.com/track/3NdDpSvN911VPGi...   \n",
       "\n",
       "                                               Title  \\\n",
       "0                                 Starboy The Weeknd   \n",
       "1                            Closer The Chainsmokers   \n",
       "2  Rockabye (feat. Sean Paul & Anne-Marie) Clean ...   \n",
       "3                           Let Me Love You DJ Snake   \n",
       "4  I Don’t Wanna Live Forever (Fifty Shades Darke...   \n",
       "\n",
       "                                              Lyrics  \\\n",
       "0  [Verse 1]\\r\\nI'm tryna put you in the worst mo...   \n",
       "1  [Verse 1: Andrew Taggart]\\r\\nHey, I was doing ...   \n",
       "2  [Intro: Sean Paul]\\r\\nCall it love and devotio...   \n",
       "3  [Verse 1: Justin Bieber]\\r\\nI used to believe\\...   \n",
       "4  [Verse 1: ZAYN]\\r\\nBeen sitting eyes wide open...   \n",
       "\n",
       "                                    lyrics_processed    neg    neu    pos  \\\n",
       "0  i'm tryna put you in the worst mood ah p1 clea...  0.152  0.777  0.071   \n",
       "1  hey i was doing just fine before i met you i d...  0.058  0.831  0.111   \n",
       "2  call it love and devotion call it a mom's ador...  0.058  0.712  0.229   \n",
       "3  i used to believe we were burnin' on the edge ...  0.213  0.575  0.212   \n",
       "4  been sitting eyes wide open behind these four ...  0.120  0.829  0.051   \n",
       "\n",
       "   compound  \n",
       "0   -0.9883  \n",
       "1    0.9597  \n",
       "2    0.9988  \n",
       "3    0.9854  \n",
       "4   -0.9750  "
      ]
     },
     "execution_count": 17,
     "metadata": {},
     "output_type": "execute_result"
    }
   ],
   "source": [
    "df[['neg', 'neu', 'pos', 'compound']] = df['lyrics_processed'].apply(sid.polarity_scores).apply(pd.Series)\n",
    "df.head()\n",
    "# df[['neg', 'neu', 'pos', 'compound']] = df['lyrics_processed'].apply(sid.polarity_scores)"
   ]
  },
  {
   "cell_type": "code",
   "execution_count": 23,
   "metadata": {},
   "outputs": [],
   "source": [
    "df[['polarity', 'subjectivity']] = df['lyrics_processed'].apply(lambda x:TextBlob(x).sentiment).to_list()"
   ]
  },
  {
   "cell_type": "code",
   "execution_count": 29,
   "metadata": {},
   "outputs": [
    {
     "data": {
      "image/png": "[encoded data removed]",
      "text/plain": [
       "<Figure size 864x288 with 1 Axes>"
      ]
     },
     "metadata": {
      "needs_background": "light"
     },
     "output_type": "display_data"
    },
    {
     "data": {
      "image/png": "[encoded data removed]",
      "text/plain": [
       "<Figure size 864x288 with 1 Axes>"
      ]
     },
     "metadata": {
      "needs_background": "light"
     },
     "output_type": "display_data"
    },
    {
     "data": {
      "image/png": "[encoded data removed]",
      "text/plain": [
       "<Figure size 864x288 with 1 Axes>"
      ]
     },
     "metadata": {
      "needs_background": "light"
     },
     "output_type": "display_data"
    },
    {
     "data": {
      "image/png": "[encoded data removed]",
      "text/plain": [
       "<Figure size 864x288 with 1 Axes>"
      ]
     },
     "metadata": {
      "needs_background": "light"
     },
     "output_type": "display_data"
    },
    {
     "data": {
      "image/png": "[encoded data removed]",
      "text/plain": [
       "<Figure size 864x288 with 1 Axes>"
      ]
     },
     "metadata": {
      "needs_background": "light"
     },
     "output_type": "display_data"
    },
    {
     "data": {
      "image/png": "[encoded data removed]",
      "text/plain": [
       "<Figure size 864x288 with 1 Axes>"
      ]
     },
     "metadata": {
      "needs_background": "light"
     },
     "output_type": "display_data"
    }
   ],
   "source": [
    "for var in ['pos', 'neg', 'neu', 'compound', 'polarity', 'subjectivity']:\n",
    "    plt.figure(figsize=(12,4))\n",
    "    sns.distplot(df[var], bins=30, kde=False, \n",
    "                 color='green')\n",
    "    plt.title(f'Histogram of {var}')\n",
    "    plt.savefig(f\"./plots/final/hist_{var}.png\")"
   ]
  },
  {
   "cell_type": "code",
   "execution_count": 24,
   "metadata": {},
   "outputs": [
    {
     "data": {
      "text/html": [
       "<div>\n",
       "<style scoped>\n",
       "    .dataframe tbody tr th:only-of-type {\n",
       "        vertical-align: middle;\n",
       "    }\n",
       "\n",
       "    .dataframe tbody tr th {\n",
       "        vertical-align: top;\n",
       "    }\n",
       "\n",
       "    .dataframe thead th {\n",
       "        text-align: right;\n",
       "    }\n",
       "</style>\n",
       "<table border=\"1\" class=\"dataframe\">\n",
       "  <thead>\n",
       "    <tr style=\"text-align: right;\">\n",
       "      <th></th>\n",
       "      <th>Id</th>\n",
       "      <th>Title</th>\n",
       "      <th>Lyrics</th>\n",
       "      <th>lyrics_processed</th>\n",
       "      <th>neg</th>\n",
       "      <th>neu</th>\n",
       "      <th>pos</th>\n",
       "      <th>compound</th>\n",
       "      <th>polarity</th>\n",
       "      <th>subjectivity</th>\n",
       "    </tr>\n",
       "  </thead>\n",
       "  <tbody>\n",
       "    <tr>\n",
       "      <th>0</th>\n",
       "      <td>https://open.spotify.com/track/5aAx2yezTd8zXrk...</td>\n",
       "      <td>Starboy The Weeknd</td>\n",
       "      <td>[Verse 1]\\r\\nI'm tryna put you in the worst mo...</td>\n",
       "      <td>i'm tryna put you in the worst mood ah p1 clea...</td>\n",
       "      <td>0.152</td>\n",
       "      <td>0.777</td>\n",
       "      <td>0.071</td>\n",
       "      <td>-0.9883</td>\n",
       "      <td>0.131546</td>\n",
       "      <td>0.505317</td>\n",
       "    </tr>\n",
       "    <tr>\n",
       "      <th>1</th>\n",
       "      <td>https://open.spotify.com/track/7BKLCZ1jbUBVqRi...</td>\n",
       "      <td>Closer The Chainsmokers</td>\n",
       "      <td>[Verse 1: Andrew Taggart]\\r\\nHey, I was doing ...</td>\n",
       "      <td>hey i was doing just fine before i met you i d...</td>\n",
       "      <td>0.058</td>\n",
       "      <td>0.831</td>\n",
       "      <td>0.111</td>\n",
       "      <td>0.9597</td>\n",
       "      <td>0.185065</td>\n",
       "      <td>0.411328</td>\n",
       "    </tr>\n",
       "    <tr>\n",
       "      <th>2</th>\n",
       "      <td>https://open.spotify.com/track/5knuzwU65gJK7IF...</td>\n",
       "      <td>Rockabye (feat. Sean Paul &amp; Anne-Marie) Clean ...</td>\n",
       "      <td>[Intro: Sean Paul]\\r\\nCall it love and devotio...</td>\n",
       "      <td>call it love and devotion call it a mom's ador...</td>\n",
       "      <td>0.058</td>\n",
       "      <td>0.712</td>\n",
       "      <td>0.229</td>\n",
       "      <td>0.9988</td>\n",
       "      <td>0.262665</td>\n",
       "      <td>0.559491</td>\n",
       "    </tr>\n",
       "    <tr>\n",
       "      <th>3</th>\n",
       "      <td>https://open.spotify.com/track/4pdPtRcBmOSQDlJ...</td>\n",
       "      <td>Let Me Love You DJ Snake</td>\n",
       "      <td>[Verse 1: Justin Bieber]\\r\\nI used to believe\\...</td>\n",
       "      <td>i used to believe we were burnin' on the edge ...</td>\n",
       "      <td>0.213</td>\n",
       "      <td>0.575</td>\n",
       "      <td>0.212</td>\n",
       "      <td>0.9854</td>\n",
       "      <td>0.355556</td>\n",
       "      <td>0.571981</td>\n",
       "    </tr>\n",
       "    <tr>\n",
       "      <th>4</th>\n",
       "      <td>https://open.spotify.com/track/3NdDpSvN911VPGi...</td>\n",
       "      <td>I Don’t Wanna Live Forever (Fifty Shades Darke...</td>\n",
       "      <td>[Verse 1: ZAYN]\\r\\nBeen sitting eyes wide open...</td>\n",
       "      <td>been sitting eyes wide open behind these four ...</td>\n",
       "      <td>0.120</td>\n",
       "      <td>0.829</td>\n",
       "      <td>0.051</td>\n",
       "      <td>-0.9750</td>\n",
       "      <td>-0.060331</td>\n",
       "      <td>0.375758</td>\n",
       "    </tr>\n",
       "  </tbody>\n",
       "</table>\n",
       "</div>"
      ],
      "text/plain": [
       "                                                  Id  \\\n",
       "0  https://open.spotify.com/track/5aAx2yezTd8zXrk...   \n",
       "1  https://open.spotify.com/track/7BKLCZ1jbUBVqRi...   \n",
       "2  https://open.spotify.com/track/5knuzwU65gJK7IF...   \n",
       "3  https://open.spotify.com/track/4pdPtRcBmOSQDlJ...   \n",
       "4  https://open.spotify.com/track/3NdDpSvN911VPGi...   \n",
       "\n",
       "                                               Title  \\\n",
       "0                                 Starboy The Weeknd   \n",
       "1                            Closer The Chainsmokers   \n",
       "2  Rockabye (feat. Sean Paul & Anne-Marie) Clean ...   \n",
       "3                           Let Me Love You DJ Snake   \n",
       "4  I Don’t Wanna Live Forever (Fifty Shades Darke...   \n",
       "\n",
       "                                              Lyrics  \\\n",
       "0  [Verse 1]\\r\\nI'm tryna put you in the worst mo...   \n",
       "1  [Verse 1: Andrew Taggart]\\r\\nHey, I was doing ...   \n",
       "2  [Intro: Sean Paul]\\r\\nCall it love and devotio...   \n",
       "3  [Verse 1: Justin Bieber]\\r\\nI used to believe\\...   \n",
       "4  [Verse 1: ZAYN]\\r\\nBeen sitting eyes wide open...   \n",
       "\n",
       "                                    lyrics_processed    neg    neu    pos  \\\n",
       "0  i'm tryna put you in the worst mood ah p1 clea...  0.152  0.777  0.071   \n",
       "1  hey i was doing just fine before i met you i d...  0.058  0.831  0.111   \n",
       "2  call it love and devotion call it a mom's ador...  0.058  0.712  0.229   \n",
       "3  i used to believe we were burnin' on the edge ...  0.213  0.575  0.212   \n",
       "4  been sitting eyes wide open behind these four ...  0.120  0.829  0.051   \n",
       "\n",
       "   compound  polarity  subjectivity  \n",
       "0   -0.9883  0.131546      0.505317  \n",
       "1    0.9597  0.185065      0.411328  \n",
       "2    0.9988  0.262665      0.559491  \n",
       "3    0.9854  0.355556      0.571981  \n",
       "4   -0.9750 -0.060331      0.375758  "
      ]
     },
     "execution_count": 24,
     "metadata": {},
     "output_type": "execute_result"
    }
   ],
   "source": [
    "df.head()"
   ]
  },
  {
   "cell_type": "code",
   "execution_count": 25,
   "metadata": {},
   "outputs": [],
   "source": [
    "df.to_csv('./datasets/lyrics_processed.csv', index=False)"
   ]
  },
  {
   "cell_type": "code",
   "execution_count": null,
   "metadata": {},
   "outputs": [],
   "source": []
  }
 ],
 "metadata": {
  "interpreter": {
   "hash": "d108135fb893a8562438fc5269c8670742940eeb15c1ac1731ab3f314a65c4ea"
  },
  "kernelspec": {
   "display_name": "Python 3.8.3 64-bit ('venv': venv)",
   "language": "python",
   "name": "python3"
  },
  "language_info": {
   "codemirror_mode": {
    "name": "ipython",
    "version": 3
   },
   "file_extension": ".py",
   "mimetype": "text/x-python",
   "name": "python",
   "nbconvert_exporter": "python",
   "pygments_lexer": "ipython3",
   "version": "3.8.3"
  },
  "orig_nbformat": 4
 },
 "nbformat": 4,
 "nbformat_minor": 2
}
