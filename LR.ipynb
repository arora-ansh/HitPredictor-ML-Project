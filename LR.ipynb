{
 "cells": [
  {
   "cell_type": "code",
   "execution_count": 1,
   "metadata": {},
   "outputs": [],
   "source": [
    "import numpy as np\n",
    "from sklearn.linear_model import LinearRegression\n",
    "from sklearn.model_selection import train_test_split\n",
    "from sklearn.model_selection import KFold\n",
    "from sklearn import datasets\n",
    "import pandas as pd"
   ]
  },
  {
   "cell_type": "code",
   "execution_count": 2,
   "metadata": {},
   "outputs": [],
   "source": [
    "def convert_score(x):\n",
    "    y = []\n",
    "    for i in range(len(x)):\n",
    "        y.append([(199.7-0.7*x[i][0])/199])\n",
    "        # y.append([201-x[i][0]])\n",
    "    return np.array(y)"
   ]
  },
  {
   "cell_type": "code",
   "execution_count": 3,
   "metadata": {},
   "outputs": [
    {
     "name": "stdout",
     "output_type": "stream",
     "text": [
      "[[1.        ]\n",
      " [0.99648241]\n",
      " [0.99296482]\n",
      " ...\n",
      " [0.48291457]\n",
      " [0.3281407 ]\n",
      " [0.31758794]]\n"
     ]
    }
   ],
   "source": [
    "dataX = pd.read_csv('./datasets/spotofy_music_normalized.csv')\n",
    "dataX.head()\n",
    "m = len(dataX) # Number of  examples\n",
    "X = np.array(dataX)\n",
    "\n",
    "dataY = pd.read_csv('./datasets/spotofy_music_labels.csv')\n",
    "dataY.head()\n",
    "Y = np.array(dataY)\n",
    "Y = convert_score(Y)\n",
    "\n",
    "print(Y)"
   ]
  },
  {
   "cell_type": "code",
   "execution_count": 9,
   "metadata": {},
   "outputs": [],
   "source": [
    "from sklearn.metrics import mean_squared_error\n",
    "from sklearn.linear_model import Lasso\n",
    "from sklearn.model_selection import GridSearchCV\n",
    "from sklearn.metrics import accuracy_score\n",
    "kf = KFold(n_splits=10)\n",
    "temp__ = 0.0000001\n",
    "alphas1 = []\n",
    "for i in range(0, 102):\n",
    "    alphas1.append(temp__+ 0.00001)\n",
    "    temp__ +=0.0001\n",
    "res = []\n",
    "for train_index, test_index in kf.split(X):\n",
    "    # print(\"TRAIN:\", train_index, \"TEST:\", test_index)\n",
    "    X_train, X_test = X[train_index], X[test_index]\n",
    "    y_train, y_test = Y[train_index], Y[test_index]\n",
    "    model = Lasso()\n",
    "    grid = dict()\n",
    "    grid['alpha'] = alphas1\n",
    "    grid_ = GridSearchCV(estimator=model,param_grid=dict(alpha=alphas1))\n",
    "    results = grid_.fit(X_train, y_train)\n",
    "    # print('Alpha: %s' % results.best_estimator_.alpha)\n",
    "    clf = Lasso(alpha=results.best_estimator_.alpha)\n",
    "    clf.fit(X_train, y_train)\n",
    "    predictY2 = clf.predict(X_test)\n",
    "    res.append([results.best_estimator_.alpha,mean_squared_error(y_test, predictY2)])\n",
    "    "
   ]
  },
  {
   "cell_type": "code",
   "execution_count": 10,
   "metadata": {},
   "outputs": [],
   "source": [
    "res.sort(key = lambda x: x[0])\n"
   ]
  },
  {
   "cell_type": "code",
   "execution_count": 16,
   "metadata": {},
   "outputs": [
    {
     "data": {
      "image/png": "[encoded data removed]",
      "text/plain": [
       "<Figure size 432x288 with 1 Axes>"
      ]
     },
     "metadata": {
      "needs_background": "light"
     },
     "output_type": "display_data"
    }
   ],
   "source": [
    "import matplotlib.pyplot as plt\n",
    "plt.plot([i[0] for i in res], [i[1] for i in res])\n",
    "plt.xlabel('alpha')\n",
    "plt.ylabel('mean squarred error')\n",
    "plt.xticks(rotation=30)\n",
    "plt.show()"
   ]
  },
  {
   "cell_type": "code",
   "execution_count": 17,
   "metadata": {},
   "outputs": [],
   "source": [
    "with open('L1.txt','w+') as f:\n",
    "    f.write(str(res))"
   ]
  }
 ],
 "metadata": {
  "interpreter": {
   "hash": "63fd5069d213b44bf678585dea6b12cceca9941eaf7f819626cde1f2670de90d"
  },
  "kernelspec": {
   "display_name": "Python 3.9.1 64-bit",
   "name": "python3"
  },
  "language_info": {
   "codemirror_mode": {
    "name": "ipython",
    "version": 3
   },
   "file_extension": ".py",
   "mimetype": "text/x-python",
   "name": "python",
   "nbconvert_exporter": "python",
   "pygments_lexer": "ipython3",
   "version": "3.9.1"
  },
  "orig_nbformat": 4
 },
 "nbformat": 4,
 "nbformat_minor": 2
}
